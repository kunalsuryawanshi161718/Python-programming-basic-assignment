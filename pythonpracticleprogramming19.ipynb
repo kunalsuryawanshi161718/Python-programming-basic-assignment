{
 "cells": [
  {
   "cell_type": "markdown",
   "id": "3c182c0c",
   "metadata": {},
   "source": [
    "## Question1\n",
    "\n",
    "Create a function that takes a string and returns a string in which each character is repeate\n",
    "once.\n",
    "\n",
    "Examples\n",
    "\n",
    "double_char('String') ➞ 'SSttrriinngg'\n",
    "\n",
    "double_char('Hello World!') ➞ 'HHeelllloo WWoorrlldd!!'\n",
    "\n",
    "double_char('1234!_ ') ➞ '11223344!!__ '"
   ]
  },
  {
   "cell_type": "code",
   "execution_count": 1,
   "id": "7833d418",
   "metadata": {},
   "outputs": [
    {
     "name": "stdout",
     "output_type": "stream",
     "text": [
      "aabbvv\n"
     ]
    }
   ],
   "source": [
    "def double(str):\n",
    "    return ''.join([c+c for c in str])\n",
    "print(double('abv'))"
   ]
  },
  {
   "cell_type": "code",
   "execution_count": 2,
   "id": "882a72cf",
   "metadata": {},
   "outputs": [
    {
     "name": "stdout",
     "output_type": "stream",
     "text": [
      "SSttrriinngg\n"
     ]
    }
   ],
   "source": [
    "print(double('String'))"
   ]
  },
  {
   "cell_type": "code",
   "execution_count": 3,
   "id": "80077c81",
   "metadata": {},
   "outputs": [
    {
     "name": "stdout",
     "output_type": "stream",
     "text": [
      "HHeelllloo  WWoorrlldd!!\n"
     ]
    }
   ],
   "source": [
    "print(double('Hello World!'))"
   ]
  },
  {
   "cell_type": "code",
   "execution_count": 4,
   "id": "c01e5cf5",
   "metadata": {},
   "outputs": [
    {
     "name": "stdout",
     "output_type": "stream",
     "text": [
      "11223344!!__  \n"
     ]
    }
   ],
   "source": [
    "print(double('1234!_ '))"
   ]
  },
  {
   "cell_type": "markdown",
   "id": "33dab882",
   "metadata": {},
   "source": [
    "## Question2\n",
    "\n",
    "Create a function that reverses a boolean value and returns the string 'boolean expected'\n",
    "\n",
    "if another variable type is given.\n",
    "\n",
    "Examples\n",
    "\n",
    "reverse(True) ➞ False\n",
    "\n",
    "reverse(False) ➞ True\n",
    "\n",
    "reverse(0) ➞ 'boolean expected'\n",
    "\n",
    "reverse(None) ➞ 'boolean expected'"
   ]
  },
  {
   "cell_type": "code",
   "execution_count": 5,
   "id": "3b32735a",
   "metadata": {},
   "outputs": [
    {
     "name": "stdout",
     "output_type": "stream",
     "text": [
      "False\n",
      "True\n",
      "boolean expected\n",
      "boolean expected\n"
     ]
    }
   ],
   "source": [
    "def reverse(arg=None):\n",
    "    return not arg if type(arg) == bool else \"boolean expected\"\n",
    "\n",
    "print(reverse(True)) # False\n",
    "print(reverse(False)) # True\n",
    "print(reverse(0)) # \"boolean expected\"\n",
    "print(reverse(None)) # \"boolean expected\""
   ]
  },
  {
   "cell_type": "markdown",
   "id": "d22fd80c",
   "metadata": {},
   "source": [
    "## Question3\n",
    "\n",
    "Create a function that returns the thickness (in meters) of a piece of paper after folding it n\n",
    "number of times. The paper starts off with a thickness of 0.5mm.\n",
    "\n",
    "Examples\n",
    "\n",
    "num_layers(1) ➞ '0.001m'\n",
    "\n",
    "Paper folded once is 1mm (equal to 0.001m)\n",
    "num_layers(4) ➞ '0.008m'\n",
    "\n",
    "Paper folded 4 times is 8mm (equal to 0.008m)\n",
    "num_layers(21) ➞ '1048.576m\n",
    "Paper folded 21 times is 1048576mm (equal to 1048.576m)"
   ]
  },
  {
   "cell_type": "code",
   "execution_count": 6,
   "id": "a940c5b6",
   "metadata": {},
   "outputs": [
    {
     "name": "stdout",
     "output_type": "stream",
     "text": [
      "0.001m\n",
      "0.008m\n",
      "1048.576m\n"
     ]
    }
   ],
   "source": [
    "def num_layers(n):\n",
    "    thickness = 0.5\n",
    "    for _ in range(n):\n",
    "        thickness *= 2\n",
    "    \n",
    "    return str(thickness / 1000)+'m' # for meters\n",
    "\n",
    "print(num_layers(1))\n",
    "print(num_layers(4))\n",
    "print(num_layers(21))"
   ]
  },
  {
   "cell_type": "markdown",
   "id": "dfe5d195",
   "metadata": {},
   "source": [
    "## Question4\n",
    "\n",
    "Create a function that takes a single string as argument and returns an ordered list containing\n",
    "the indices of all capital letters in the string.\n",
    "\n",
    "Examples\n",
    "\n",
    "index_of_caps('eDaBiT') ➞ [1, 3, 5]\n",
    "\n",
    "index_of_caps('eQuINoX') ➞ [1, 3, 4, 6]\n",
    "\n",
    "index_of_caps('determine') ➞ []\n",
    "\n",
    "index_of_caps('STRIKE') ➞ [0, 1, 2, 3, 4, 5]\n",
    "\n",
    "index_of_caps('sUn') ➞ [1]"
   ]
  },
  {
   "cell_type": "code",
   "execution_count": 7,
   "id": "7a1bb36b",
   "metadata": {},
   "outputs": [
    {
     "name": "stdout",
     "output_type": "stream",
     "text": [
      "[0, 3]\n",
      "[1, 3, 5]\n",
      "[1, 3, 4, 6]\n",
      "[]\n",
      "[0, 1, 2, 3, 4, 5]\n",
      "[1]\n"
     ]
    }
   ],
   "source": [
    "def index_of_caps(word):\n",
    "    indices = []\n",
    "    for i in range(len(word)):\n",
    "        if word[i].isupper():\n",
    "             indices.append(i)\n",
    "    return indices\n",
    "\n",
    "print(index_of_caps('BhaNu'))\n",
    "print(index_of_caps('eDaBiT'))\n",
    "print(index_of_caps('eQuINoX')) \n",
    "print(index_of_caps('determine'))\n",
    "print(index_of_caps('STRIKE'))\n",
    "print(index_of_caps('sUn'))"
   ]
  },
  {
   "cell_type": "markdown",
   "id": "437d4e5e",
   "metadata": {},
   "source": [
    "# Question5\n",
    "\n",
    "Using list comprehensions, create a function that finds all even numbers from 1 to the given\n",
    "number.\n",
    "\n",
    "Examples\n",
    "\n",
    "find_even_nums(8) ➞ [2, 4, 6, 8]\n",
    "\n",
    "find_even_nums(4) ➞ [2, 4]\n",
    "\n",
    "find_even_nums(2) ➞ [2]"
   ]
  },
  {
   "cell_type": "code",
   "execution_count": 9,
   "id": "28509b6e",
   "metadata": {},
   "outputs": [
    {
     "name": "stdout",
     "output_type": "stream",
     "text": [
      "Enter a number : 8\n"
     ]
    },
    {
     "data": {
      "text/plain": [
       "[2, 4, 6, 8]"
      ]
     },
     "execution_count": 9,
     "metadata": {},
     "output_type": "execute_result"
    }
   ],
   "source": [
    "def find_even_nums(n):\n",
    "    even =[x for x in range(2,n+1) if x % 2 == 0]\n",
    "    return even\n",
    "\n",
    "n = int(input('Enter a number : '))\n",
    "find_even_nums(n)"
   ]
  },
  {
   "cell_type": "code",
   "execution_count": 10,
   "id": "0c8fa4b8",
   "metadata": {},
   "outputs": [
    {
     "data": {
      "text/plain": [
       "[2, 4]"
      ]
     },
     "execution_count": 10,
     "metadata": {},
     "output_type": "execute_result"
    }
   ],
   "source": [
    "find_even_nums(4)"
   ]
  },
  {
   "cell_type": "code",
   "execution_count": 11,
   "id": "efce5e9b",
   "metadata": {},
   "outputs": [
    {
     "data": {
      "text/plain": [
       "[2]"
      ]
     },
     "execution_count": 11,
     "metadata": {},
     "output_type": "execute_result"
    }
   ],
   "source": [
    "find_even_nums(2)"
   ]
  },
  {
   "cell_type": "code",
   "execution_count": null,
   "id": "ae47d90b",
   "metadata": {},
   "outputs": [],
   "source": []
  }
 ],
 "metadata": {
  "kernelspec": {
   "display_name": "Python 3",
   "language": "python",
   "name": "python3"
  },
  "language_info": {
   "codemirror_mode": {
    "name": "ipython",
    "version": 3
   },
   "file_extension": ".py",
   "mimetype": "text/x-python",
   "name": "python",
   "nbconvert_exporter": "python",
   "pygments_lexer": "ipython3",
   "version": "3.8.8"
  }
 },
 "nbformat": 4,
 "nbformat_minor": 5
}
