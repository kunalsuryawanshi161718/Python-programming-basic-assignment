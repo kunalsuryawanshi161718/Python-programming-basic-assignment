{
 "cells": [
  {
   "cell_type": "markdown",
   "id": "993ef4ee",
   "metadata": {},
   "source": [
    "## 1. In what modes should the PdfFileReader() and PdfFileWriter() File objects will be opened?"
   ]
  },
  {
   "cell_type": "markdown",
   "id": "ff9fb09d",
   "metadata": {},
   "source": [
    "Ans:\n",
    "\n",
    "    a) PdFileReader() will open the file in binary read mode with passing 'rb' in arguement \n",
    "    \n",
    "    b) PdfFileWriter() wile open the file in binary write mode with passing 'wb' in arguement"
   ]
  },
  {
   "cell_type": "markdown",
   "id": "529183e5",
   "metadata": {},
   "source": [
    "## 2. From a PdfFileReader object, how do you get a Page object for page 5?"
   ]
  },
  {
   "cell_type": "markdown",
   "id": "0666125a",
   "metadata": {},
   "source": [
    "Ans: getPage(4) 'the page number will initialize with zero'"
   ]
  },
  {
   "cell_type": "markdown",
   "id": "8fa34ad3",
   "metadata": {},
   "source": [
    "## 3 - What PdfFileReader variable stores the number of pages in the PDF document?\n"
   ]
  },
  {
   "cell_type": "markdown",
   "id": "869f3dad",
   "metadata": {},
   "source": [
    "Ans: The total number of pages in the document is stored in the numPages variable of a PdfFileReader object."
   ]
  },
  {
   "cell_type": "markdown",
   "id": "875a2ea6",
   "metadata": {},
   "source": [
    "## 4. If a PdfFileReader object’s PDF is encrypted with the password swordfish, what must you do before you can obtain Page objects from it?\n"
   ]
  },
  {
   "cell_type": "markdown",
   "id": "aaa59310",
   "metadata": {},
   "source": [
    "Ans: To read an encrypted PDF, call the decrypt() function and pass the password as a string, in our case it is swordfish. After we call decrypt() with the correct password, you’ll see that calling getPage() no longer causes an error. Call decrypt('swordfish')."
   ]
  },
  {
   "cell_type": "markdown",
   "id": "aee74386",
   "metadata": {},
   "source": [
    "## 5. What methods do you use to rotate a page?\n"
   ]
  },
  {
   "cell_type": "markdown",
   "id": "3b7d89f0",
   "metadata": {},
   "source": [
    "Ans: the rotateClockwise() and rotateCounterClockwise() function rotate the page 90 degree"
   ]
  },
  {
   "cell_type": "markdown",
   "id": "65aa989e",
   "metadata": {},
   "source": [
    "## 6. What is the difference between a Run object and a Paragraph object?\n"
   ]
  },
  {
   "cell_type": "markdown",
   "id": "64352553",
   "metadata": {},
   "source": [
    "The paragraph start with new line contain multiple number of run while run is contineus group of character within a paragraph"
   ]
  },
  {
   "cell_type": "markdown",
   "id": "4cdda0b3",
   "metadata": {},
   "source": [
    "## 7. How do you obtain a list of Paragraph objects for a Document object that’s stored in a variable named doc?\n"
   ]
  },
  {
   "cell_type": "markdown",
   "id": "17d0d72b",
   "metadata": {},
   "source": [
    "Ans: len(doc.paragraphs)"
   ]
  },
  {
   "cell_type": "markdown",
   "id": "abd2b34a",
   "metadata": {},
   "source": [
    "## 8. What type of object has bold, underline, italic, strike, and outline variables?\n"
   ]
  },
  {
   "cell_type": "code",
   "execution_count": null,
   "id": "b19e8410",
   "metadata": {},
   "outputs": [],
   "source": [
    "Ans: Run Object"
   ]
  },
  {
   "cell_type": "markdown",
   "id": "a1aad0d3",
   "metadata": {},
   "source": [
    "## 9. What is the difference between False, True, and None for the bold variable?\n"
   ]
  },
  {
   "cell_type": "markdown",
   "id": "ecb7427f",
   "metadata": {},
   "source": [
    "Ans: True always makes the run object bolded and False makes it always not bolded, no matter what the style's bold settings is. None will make the Run object just use the style's bold settings."
   ]
  },
  {
   "cell_type": "markdown",
   "id": "e72b1835",
   "metadata": {},
   "source": [
    "## 10. How do you create a Document object for a new Word document?\n"
   ]
  },
  {
   "cell_type": "markdown",
   "id": "a1b4f954",
   "metadata": {},
   "source": [
    "mydoc = docx.Document()"
   ]
  },
  {
   "cell_type": "markdown",
   "id": "7a911419",
   "metadata": {},
   "source": [
    "## 11. How do you add a paragraph with the text &#39;Hello, there!&#39; to a Document object stored in a variable named doc?\n"
   ]
  },
  {
   "cell_type": "code",
   "execution_count": null,
   "id": "518f3dfc",
   "metadata": {},
   "outputs": [],
   "source": [
    "doc.add_paragraph('Hello, there!')"
   ]
  },
  {
   "cell_type": "markdown",
   "id": "41ae3f60",
   "metadata": {},
   "source": [
    "## 12. What integers represent the levels of headings available in Word documents?"
   ]
  },
  {
   "cell_type": "markdown",
   "id": "03e94fbc",
   "metadata": {},
   "source": [
    "There are five levels of heading. Level 1 is the highest or main level of heading, Level 2 is a subheading of Level 1, Level 3 is a subheading of Level 2, and so on through Levels 4 and 5.The arguments to add_heading() are a string of the heading text and an integer from 0 to 4. The integer 0 makes the heading the Title style, which is used for the top of the document. Integers 1 to 4 are for various heading levels, with 1 being the main heading and 4 the lowest subheading. The add_heading() function returns a Paragraph object to save you the step of extracting it from the Document object as a separate step"
   ]
  },
  {
   "cell_type": "code",
   "execution_count": null,
   "id": "668b413c",
   "metadata": {},
   "outputs": [],
   "source": []
  }
 ],
 "metadata": {
  "kernelspec": {
   "display_name": "Python 3",
   "language": "python",
   "name": "python3"
  },
  "language_info": {
   "codemirror_mode": {
    "name": "ipython",
    "version": 3
   },
   "file_extension": ".py",
   "mimetype": "text/x-python",
   "name": "python",
   "nbconvert_exporter": "python",
   "pygments_lexer": "ipython3",
   "version": "3.8.8"
  }
 },
 "nbformat": 4,
 "nbformat_minor": 5
}
