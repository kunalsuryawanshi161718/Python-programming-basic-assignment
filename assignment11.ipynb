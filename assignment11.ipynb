{
 "cells": [
  {
   "cell_type": "code",
   "execution_count": 17,
   "id": "7f0f3f01",
   "metadata": {},
   "outputs": [
    {
     "name": "stdout",
     "output_type": "stream",
     "text": [
      "enter the length: 4\n",
      "words greater then length 4 is:\n",
      "kunal\n",
      "kranti\n",
      "oranges\n",
      "pineapple\n"
     ]
    }
   ],
   "source": [
    "def find_word(n):\n",
    "    for i in l:\n",
    "        if len(i)>n:\n",
    "            print(i)\n",
    "        else:\n",
    "            continue\n",
    "\n",
    "s = [\"kunal\",\"amey\",\"kranti\",\"oranges\",\"oranges\"]\n",
    "n = int(input(\"enter the length: \"))\n",
    "print(\"words greater then length \" +  str(n) + \" is:\" )\n",
    "find_word(n)"
   ]
  },
  {
   "cell_type": "code",
   "execution_count": 18,
   "id": "24f5ca0f",
   "metadata": {},
   "outputs": [
    {
     "name": "stdout",
     "output_type": "stream",
     "text": [
      "enter the string pineapple\n",
      "enter the value of i: 5\n",
      "pinepple\n"
     ]
    }
   ],
   "source": [
    "s = input(\"enter the string \")\n",
    "n = int(input(\"enter the value of i: \"))\n",
    "a = s[0:n-1]\n",
    "b = s[n:]\n",
    "print(a+b)"
   ]
  },
  {
   "cell_type": "code",
   "execution_count": 1,
   "id": "e1d095d8",
   "metadata": {},
   "outputs": [
    {
     "name": "stdout",
     "output_type": "stream",
     "text": [
      "enter the string splittheword\n",
      "enter the value of i to split : 6\n",
      "split\n",
      "theword\n",
      "splittheword\n"
     ]
    }
   ],
   "source": [
    "s = input(\"enter the string \")\n",
    "n = int(input(\"enter the value of i to split : \"))\n",
    "\n",
    "a = s[0:n-1]\n",
    "print(a)\n",
    "\n",
    "b = s[n-1:]\n",
    "print(b)\n",
    "\n",
    "print(a+b)"
   ]
  },
  {
   "cell_type": "code",
   "execution_count": 20,
   "id": "c1f8f9d7",
   "metadata": {},
   "outputs": [
    {
     "name": "stdout",
     "output_type": "stream",
     "text": [
      "StringA is a binary string\n"
     ]
    }
   ],
   "source": [
    "stringA = \"01100101010101\"\n",
    "\n",
    "b = '10'\n",
    "count = 0\n",
    "for char in stringA:\n",
    "    if char not in b:\n",
    "        count = 1\n",
    "        break\n",
    "    else:\n",
    "        pass\n",
    "if count:\n",
    "    print(\"StringA is not a binary string\")\n",
    "else:\n",
    "    print(\"StringA is a binary string\")\n",
    "\n"
   ]
  },
  {
   "cell_type": "code",
   "execution_count": null,
   "id": "e2bb6a9b",
   "metadata": {},
   "outputs": [],
   "source": []
  }
 ],
 "metadata": {
  "kernelspec": {
   "display_name": "Python 3",
   "language": "python",
   "name": "python3"
  },
  "language_info": {
   "codemirror_mode": {
    "name": "ipython",
    "version": 3
   },
   "file_extension": ".py",
   "mimetype": "text/x-python",
   "name": "python",
   "nbconvert_exporter": "python",
   "pygments_lexer": "ipython3",
   "version": "3.8.8"
  }
 },
 "nbformat": 4,
 "nbformat_minor": 5
}
