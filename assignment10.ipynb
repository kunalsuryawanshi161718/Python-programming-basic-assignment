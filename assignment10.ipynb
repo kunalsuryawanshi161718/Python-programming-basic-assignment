{
 "cells": [
  {
   "cell_type": "markdown",
   "id": "3e251b68",
   "metadata": {},
   "source": [
    "# 1 - Write a Python program to find sum of elements in list?"
   ]
  },
  {
   "cell_type": "code",
   "execution_count": 1,
   "id": "0d9ff019",
   "metadata": {},
   "outputs": [
    {
     "name": "stdout",
     "output_type": "stream",
     "text": [
      "100\n"
     ]
    }
   ],
   "source": [
    "def add(l):\n",
    "    sum = 0\n",
    "    for i in l:\n",
    "        sum = sum + i\n",
    "    print(sum)\n",
    "\n",
    "l = [10,20,30,40]\n",
    "add(l)"
   ]
  },
  {
   "cell_type": "markdown",
   "id": "af84fbba",
   "metadata": {},
   "source": [
    "# 2 - Write a Python program to Multiply all numbers in the list?"
   ]
  },
  {
   "cell_type": "code",
   "execution_count": 2,
   "id": "9885286a",
   "metadata": {},
   "outputs": [
    {
     "name": "stdout",
     "output_type": "stream",
     "text": [
      "24\n"
     ]
    }
   ],
   "source": [
    "def multiply(l):\n",
    "    mul = 1\n",
    "    for i in l:\n",
    "        mul = mul * i\n",
    "    print(mul)\n",
    "    \n",
    "l = [1,2,3,4]\n",
    "multiply(l)"
   ]
  },
  {
   "cell_type": "markdown",
   "id": "96a24806",
   "metadata": {},
   "source": [
    "# 3 - Write a Python program to find smallest number in a list?"
   ]
  },
  {
   "cell_type": "code",
   "execution_count": 3,
   "id": "99d5d909",
   "metadata": {},
   "outputs": [
    {
     "name": "stdout",
     "output_type": "stream",
     "text": [
      "3\n"
     ]
    }
   ],
   "source": [
    "def smallest(l):\n",
    "    l.sort()\n",
    "    print(l[0])\n",
    "    \n",
    "l = [5,4,8,3,4,7,7]\n",
    "smallest(l)"
   ]
  },
  {
   "cell_type": "markdown",
   "id": "5b9d5afb",
   "metadata": {},
   "source": [
    "# 4- Write a Python program to find largest number in a list?"
   ]
  },
  {
   "cell_type": "code",
   "execution_count": 4,
   "id": "c64fa2e3",
   "metadata": {},
   "outputs": [
    {
     "name": "stdout",
     "output_type": "stream",
     "text": [
      "8\n"
     ]
    }
   ],
   "source": [
    "def largest(l):\n",
    "    l.sort()\n",
    "    print(l[-1])\n",
    "    \n",
    "l = [5,4,8,3,4,7,7]\n",
    "largest(l)"
   ]
  },
  {
   "cell_type": "markdown",
   "id": "784b496a",
   "metadata": {},
   "source": [
    "# 5- Write a Python program to find second largest number in a list?"
   ]
  },
  {
   "cell_type": "code",
   "execution_count": 5,
   "id": "d70c6222",
   "metadata": {},
   "outputs": [
    {
     "name": "stdout",
     "output_type": "stream",
     "text": [
      "7\n"
     ]
    }
   ],
   "source": [
    "def second_largest(l):\n",
    "    l.sort()\n",
    "    print(l[-2])\n",
    "    \n",
    "l = [5,4,8,3,4,7,7]\n",
    "second_largest(l)"
   ]
  },
  {
   "cell_type": "markdown",
   "id": "fef99f61",
   "metadata": {},
   "source": [
    "# 6- Write a Python program to find N largest elements from a list?"
   ]
  },
  {
   "cell_type": "code",
   "execution_count": 6,
   "id": "9e717384",
   "metadata": {},
   "outputs": [
    {
     "name": "stdout",
     "output_type": "stream",
     "text": [
      "5\n"
     ]
    }
   ],
   "source": [
    "def n_largest(l,n):\n",
    "    l.sort()\n",
    "    print(l[-n])\n",
    "    \n",
    "l = [5,4,8,3,4,7,7]\n",
    "n_largest(l,4)"
   ]
  },
  {
   "cell_type": "markdown",
   "id": "7475836a",
   "metadata": {},
   "source": [
    "# 7 - Write a Python program to print even numbers in a list?"
   ]
  },
  {
   "cell_type": "code",
   "execution_count": 7,
   "id": "94fac4ab",
   "metadata": {},
   "outputs": [
    {
     "name": "stdout",
     "output_type": "stream",
     "text": [
      "4\n",
      "8\n",
      "24\n",
      "38\n"
     ]
    }
   ],
   "source": [
    "def even(l):\n",
    "    for num in l:\n",
    "        if num%2 == 0:\n",
    "            print(num)\n",
    "        else:\n",
    "            continue\n",
    "\n",
    "l = [5,4,8,3,25,7,24,38]\n",
    "even(l)"
   ]
  },
  {
   "cell_type": "markdown",
   "id": "a00ffb72",
   "metadata": {},
   "source": [
    "# 8 - Write a Python program to print odd numbers in a List?"
   ]
  },
  {
   "cell_type": "code",
   "execution_count": 8,
   "id": "8e067e26",
   "metadata": {},
   "outputs": [
    {
     "name": "stdout",
     "output_type": "stream",
     "text": [
      "5\n",
      "3\n",
      "25\n",
      "7\n"
     ]
    }
   ],
   "source": [
    "def odd(l):\n",
    "    for num in l:\n",
    "        if num%2 != 0:\n",
    "            print(num)\n",
    "        else:\n",
    "            continue\n",
    "\n",
    "l = [5,4,8,3,25,7,24,38]\n",
    "odd(l)"
   ]
  },
  {
   "cell_type": "markdown",
   "id": "1a165704",
   "metadata": {},
   "source": [
    "# 9 - Write a Python program to Remove empty List from List?"
   ]
  },
  {
   "cell_type": "code",
   "execution_count": 9,
   "id": "5ab4c38c",
   "metadata": {},
   "outputs": [
    {
     "name": "stdout",
     "output_type": "stream",
     "text": [
      "list after removing emptylist  [6, 45, 5, 45, 65, 21, 46, 66]\n"
     ]
    }
   ],
   "source": [
    "l = [6,45,5,45,[],65,21,[],46,66]\n",
    "k = []\n",
    "for i in l:\n",
    "    if i != []:\n",
    "        k.append(i)\n",
    "    else:\n",
    "        continue\n",
    "print(\"list after removing emptylist \",k)"
   ]
  },
  {
   "cell_type": "markdown",
   "id": "34d44af0",
   "metadata": {},
   "source": [
    "# 10 - Write a Python program to Cloning or Copying a list?"
   ]
  },
  {
   "cell_type": "code",
   "execution_count": 10,
   "id": "663d33f0",
   "metadata": {},
   "outputs": [
    {
     "name": "stdout",
     "output_type": "stream",
     "text": [
      "clone of the list is:  [6, 45, 5, 45, 65, 66, 66, 66]\n"
     ]
    }
   ],
   "source": [
    "l = [6,45,5,45,65,66,66,66]\n",
    "k = []\n",
    "for i in l:\n",
    "    k.append(i)\n",
    "\n",
    "new_list = k\n",
    "print(\"clone of the list is: \", new_list)"
   ]
  },
  {
   "cell_type": "markdown",
   "id": "ca631967",
   "metadata": {},
   "source": [
    "# 11 - Write a Python program to Count occurrences of an element in a list?"
   ]
  },
  {
   "cell_type": "code",
   "execution_count": 11,
   "id": "3faefc97",
   "metadata": {},
   "outputs": [
    {
     "name": "stdout",
     "output_type": "stream",
     "text": [
      "Element occour by 3 counts\n"
     ]
    }
   ],
   "source": [
    "l = [6,45,5,45,65,66,66,66]\n",
    "x = 66\n",
    "count = 0\n",
    "l.sort()\n",
    "for i in l:\n",
    "    if i == x:\n",
    "        count = count + 1\n",
    "    else:\n",
    "        continue\n",
    "    \n",
    "print(\"Element occour by \" + str(count) + \" counts\")"
   ]
  }
 ],
 "metadata": {
  "kernelspec": {
   "display_name": "Python 3",
   "language": "python",
   "name": "python3"
  },
  "language_info": {
   "codemirror_mode": {
    "name": "ipython",
    "version": 3
   },
   "file_extension": ".py",
   "mimetype": "text/x-python",
   "name": "python",
   "nbconvert_exporter": "python",
   "pygments_lexer": "ipython3",
   "version": "3.8.8"
  }
 },
 "nbformat": 4,
 "nbformat_minor": 5
}
