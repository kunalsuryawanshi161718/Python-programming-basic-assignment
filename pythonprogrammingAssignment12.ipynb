{
 "cells": [
  {
   "cell_type": "markdown",
   "id": "68b7fb4f",
   "metadata": {},
   "source": [
    "# pythonprogrammingAssignment12"
   ]
  },
  {
   "cell_type": "markdown",
   "id": "d8e8562d",
   "metadata": {},
   "source": [
    "## 1. Write a Python program to Extract Unique values dictionary values?"
   ]
  },
  {
   "cell_type": "code",
   "execution_count": 21,
   "id": "ad433e0e",
   "metadata": {},
   "outputs": [
    {
     "name": "stdout",
     "output_type": "stream",
     "text": [
      "{'name': 'kunal', 'surname': 'suryawanshi', 'roll no': 123, 'sub': 'cccc', 'id': 404}\n",
      "unique values is {'cccc', 404, 'suryawanshi', 123, 'kunal'}\n"
     ]
    }
   ],
   "source": [
    "d = {\"name\":\"kunal\",\"surname\":\"suryawanshi\",\"roll no\":123,\"sub\":\"cccc\",\"id\":404}\n",
    "print(d)\n",
    "\n",
    "print(\"unique values is\",set(d.values()))\n"
   ]
  },
  {
   "cell_type": "markdown",
   "id": "363f5129",
   "metadata": {},
   "source": [
    "## 2. Write a Python program to find the sum of all items in a dictionary?"
   ]
  },
  {
   "cell_type": "code",
   "execution_count": 49,
   "id": "48bfc6b0",
   "metadata": {},
   "outputs": [
    {
     "name": "stdout",
     "output_type": "stream",
     "text": [
      "1772\n"
     ]
    }
   ],
   "source": [
    "#program 1\n",
    "d1 = {\"name\":789,\"surname\":456,\"roll no\":123,\"sub\":789,\"id\":404}\n",
    "sum = 0\n",
    "for i in set(d1.values()):\n",
    "    sum = sum + i\n",
    "print(sum)"
   ]
  },
  {
   "cell_type": "code",
   "execution_count": 64,
   "id": "c0b27844",
   "metadata": {},
   "outputs": [
    {
     "name": "stdout",
     "output_type": "stream",
     "text": [
      "1772\n"
     ]
    }
   ],
   "source": [
    "#Example 2\n",
    "d1 = {\"name2\":\"kunal\",\"surname2\":456,\"roll no2\":123,\"sub2\":789,\"id2\":404}\n",
    "sum = 0\n",
    "for i in set(d1.values()):\n",
    "    if i in range(0,1000):\n",
    "        sum = sum + i\n",
    "print(sum)"
   ]
  },
  {
   "cell_type": "markdown",
   "id": "f20da1f8",
   "metadata": {},
   "source": [
    "## 3 - Write a Python program to Merging two Dictionaries?"
   ]
  },
  {
   "cell_type": "code",
   "execution_count": 69,
   "id": "f1a88e16",
   "metadata": {},
   "outputs": [
    {
     "data": {
      "text/plain": [
       "{'name2': 'kunal',\n",
       " 'surname2': 456,\n",
       " 'roll no2': 123,\n",
       " 'sub2': 789,\n",
       " 'id2': 404,\n",
       " 'name': 'kunal',\n",
       " 'surname': 'suryawanshi',\n",
       " 'roll no': 123,\n",
       " 'sub': 'cccc',\n",
       " 'id': 404}"
      ]
     },
     "execution_count": 69,
     "metadata": {},
     "output_type": "execute_result"
    }
   ],
   "source": [
    "d = {\"name\":\"kunal\",\"surname\":\"suryawanshi\",\"roll no\":123,\"sub\":\"cccc\",\"id\":404}\n",
    "d1 = {\"name2\":\"kunal\",\"surname2\":456,\"roll no2\":123,\"sub2\":789,\"id2\":404}\n",
    "d1.update(d)\n",
    "d1"
   ]
  },
  {
   "cell_type": "markdown",
   "id": "81b8c6e0",
   "metadata": {},
   "source": [
    "## 4 - Write a Python program to convert key-values list to flat dictionary?"
   ]
  },
  {
   "cell_type": "code",
   "execution_count": 99,
   "id": "e8cfbb58",
   "metadata": {},
   "outputs": [
    {
     "data": {
      "text/plain": [
       "{1: 'kunal', 2: 'am', 3: 'kr', 4: 'div', 5: 'ctt', 6: 'aish'}"
      ]
     },
     "execution_count": 99,
     "metadata": {},
     "output_type": "execute_result"
    }
   ],
   "source": [
    "dic = {\"id\":[1,2,3,4,5,6],\"name\":[\"kunal\",\"am\",\"kr\",\"div\",\"ctt\",\"aish\"]}\n",
    "dic2 = {'roll no':[11,12,13,14,55,66]}\n",
    "\n",
    "from itertools import product\n",
    "new = dict(zip(dic['id'],dic['name']))\n",
    "new"
   ]
  },
  {
   "cell_type": "markdown",
   "id": "1eba3e27",
   "metadata": {},
   "source": [
    "## 5-Write a Python program to insertion at the beginning in OrderedDict?"
   ]
  },
  {
   "cell_type": "code",
   "execution_count": 85,
   "id": "97843f4d",
   "metadata": {},
   "outputs": [
    {
     "name": "stdout",
     "output_type": "stream",
     "text": [
      "Resultant Dictionary : OrderedDict([('manjeet', '3'), ('akshat', '1'), ('nikhil', '2')])\n"
     ]
    }
   ],
   "source": [
    "# insertion of items in beginning of ordered dict\n",
    "from collections import OrderedDict\n",
    " \n",
    "# initialising ordered_dict\n",
    "iniordered_dict = OrderedDict([('akshat', '1'), ('nikhil', '2')])\n",
    " \n",
    "# inserting items in starting of dict\n",
    "iniordered_dict.update({'manjeet':'3'})\n",
    "iniordered_dict.move_to_end('manjeet', last = False)\n",
    " \n",
    "# print result\n",
    "print (\"Resultant Dictionary : \"+str(iniordered_dict))"
   ]
  },
  {
   "cell_type": "markdown",
   "id": "09ac003f",
   "metadata": {},
   "source": [
    "## 5-Write a Python program to check order of character in string using OrderedDict()?"
   ]
  },
  {
   "cell_type": "code",
   "execution_count": 100,
   "id": "7c789c52",
   "metadata": {},
   "outputs": [
    {
     "name": "stdout",
     "output_type": "stream",
     "text": [
      "enter the string1 : asdfghjkl\n",
      "enter the string2 : hd\n",
      "not in ordered\n"
     ]
    }
   ],
   "source": [
    "from collections import OrderedDict\n",
    "\n",
    "#creating a fxn\n",
    "def check(string1,string2):\n",
    "    a = string1\n",
    "    b = string2\n",
    "    c = 0\n",
    "    \n",
    "    dic3 = OrderedDict.fromkeys(a)\n",
    "    \n",
    "    for keys,values in dic3.items():\n",
    "        \n",
    "        if keys == b[1]:\n",
    "            c = c + 1\n",
    "        if c == (len(b)):\n",
    "            return print(\"in order\")\n",
    "        \n",
    "    print(\"not in ordered\")\n",
    "    \n",
    "string1 = str(input(\"enter the string1 : \"))\n",
    "string2 = str(input(\"enter the string2 : \"))\n",
    "check(string1,string2)"
   ]
  },
  {
   "cell_type": "markdown",
   "id": "922a7c4f",
   "metadata": {},
   "source": [
    "## 7 - Write a Python program to sort Python Dictionaries by Key or Value?"
   ]
  },
  {
   "cell_type": "code",
   "execution_count": 101,
   "id": "a2887b66",
   "metadata": {},
   "outputs": [
    {
     "name": "stdout",
     "output_type": "stream",
     "text": [
      "original dict {'kunal': 123, 'amey': 456, 'kra': 789, 'div': 462}\n",
      "sorted by keys [('amey', 456), ('div', 462), ('kra', 789), ('kunal', 123)]\n",
      "sorted by values [('kunal', 123), ('amey', 456), ('div', 462), ('kra', 789)]\n"
     ]
    }
   ],
   "source": [
    "dictonary = {\"kunal\":123,\"amey\":456,\"kra\":789,\"div\":462}\n",
    "#sorted by keys\n",
    "a = sorted(dictonary.items(),key = lambda x:x[0])\n",
    "#sorted by values\n",
    "b = sorted(dictonary.items(),key = lambda x:x[1])\n",
    "\n",
    "print(\"original dict\",dictonary)\n",
    "print(\"sorted by keys\",a)\n",
    "print(\"sorted by values\",b)"
   ]
  },
  {
   "cell_type": "code",
   "execution_count": null,
   "id": "64040311",
   "metadata": {},
   "outputs": [],
   "source": []
  },
  {
   "cell_type": "code",
   "execution_count": null,
   "id": "51d924cc",
   "metadata": {},
   "outputs": [],
   "source": []
  }
 ],
 "metadata": {
  "kernelspec": {
   "display_name": "Python 3",
   "language": "python",
   "name": "python3"
  },
  "language_info": {
   "codemirror_mode": {
    "name": "ipython",
    "version": 3
   },
   "file_extension": ".py",
   "mimetype": "text/x-python",
   "name": "python",
   "nbconvert_exporter": "python",
   "pygments_lexer": "ipython3",
   "version": "3.8.8"
  }
 },
 "nbformat": 4,
 "nbformat_minor": 5
}
