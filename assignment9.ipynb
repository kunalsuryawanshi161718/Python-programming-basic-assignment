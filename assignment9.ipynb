{
 "cells": [
  {
   "cell_type": "markdown",
   "id": "72cf9a0d",
   "metadata": {},
   "source": [
    "# 1-Write a Python program to check if the given number is a Disarium Number?"
   ]
  },
  {
   "cell_type": "code",
   "execution_count": 1,
   "id": "691e5094",
   "metadata": {},
   "outputs": [
    {
     "name": "stdout",
     "output_type": "stream",
     "text": [
      "enter the number: 175\n",
      "number is diserium \n",
      "None\n"
     ]
    }
   ],
   "source": [
    "def diserium(num):\n",
    "    j = 1\n",
    "    sum = 0\n",
    "    temp = num\n",
    "\n",
    "    while(temp != 0):\n",
    "        rem = temp%10\n",
    "        sum = sum*10 + rem\n",
    "        temp = int(temp/10)\n",
    "    temp = sum\n",
    "    sum=0\n",
    "    while(temp != 0):\n",
    "        rem = temp%10\n",
    "        sum = sum + rem**j\n",
    "        temp = int(temp/10)\n",
    "        j = j+1\n",
    "    if sum == num:\n",
    "        print(\"number is diserium \")\n",
    "    else:\n",
    "        print(\"not diserium\")\n",
    "    \n",
    "num  = int(input(\"enter the number: \"))\n",
    "print(diserium(num))\n"
   ]
  },
  {
   "cell_type": "markdown",
   "id": "dbc3042a",
   "metadata": {},
   "source": [
    "# 2-Write a Python program to print all disarium numbers between 1 to 100?"
   ]
  },
  {
   "cell_type": "code",
   "execution_count": 2,
   "id": "f6e6a2ac",
   "metadata": {},
   "outputs": [
    {
     "name": "stdout",
     "output_type": "stream",
     "text": [
      "the diserium numbers in range of 1 to 100 is:  \n",
      "0\n",
      "1\n",
      "2\n",
      "3\n",
      "4\n",
      "5\n",
      "6\n",
      "7\n",
      "8\n",
      "9\n",
      "89\n"
     ]
    }
   ],
   "source": [
    "print(\"the diserium numbers in range of 1 to 100 is:  \")\n",
    "for num in range(0,100,1):\n",
    "    j = 1\n",
    "    sum = 0\n",
    "    temp = num\n",
    "\n",
    "    while(temp != 0):\n",
    "        rem = temp%10\n",
    "        sum = sum*10 + rem\n",
    "        temp = int(temp/10)\n",
    "    temp = sum\n",
    "    sum=0\n",
    "    while(temp != 0):\n",
    "        rem = temp%10\n",
    "        sum = sum + rem**j\n",
    "        temp = int(temp/10)\n",
    "        j = j+1\n",
    "    if(sum == num):\n",
    "        print(sum)\n",
    "    else:\n",
    "        continue"
   ]
  },
  {
   "cell_type": "markdown",
   "id": "e43c6077",
   "metadata": {},
   "source": [
    "# 3-Write a Python program to check if the given number is Happy Number?\n"
   ]
  },
  {
   "cell_type": "code",
   "execution_count": 3,
   "id": "5b9bbad6",
   "metadata": {},
   "outputs": [
    {
     "name": "stdout",
     "output_type": "stream",
     "text": [
      "enter the number: 56\n",
      "not a happy number\n"
     ]
    }
   ],
   "source": [
    "def sumofdigit(num):\n",
    "    j = 1\n",
    "    sum = 0\n",
    "\n",
    "    while(num != 0):\n",
    "        rem = num%10\n",
    "        sum = sum + rem*rem\n",
    "        num = int(num/10)\n",
    "        j=j+1\n",
    "    return sum\n",
    "    \n",
    "num  = int(input(\"enter the number: \"))\n",
    "res = sumofdigit(num)\n",
    "\n",
    "while res != 1 and res != 4 :\n",
    "    res = sumofdigit(res)\n",
    "    \n",
    "if res == 1:\n",
    "    print(\"happy number\")\n",
    "else:\n",
    "    print(\"not a happy number\")\n"
   ]
  },
  {
   "cell_type": "code",
   "execution_count": null,
   "id": "6826dea7",
   "metadata": {},
   "outputs": [],
   "source": []
  },
  {
   "cell_type": "markdown",
   "id": "083ab7d1",
   "metadata": {},
   "source": [
    "# 4 - Write a Python program to print all happy numbers between 1 and 100?"
   ]
  },
  {
   "cell_type": "code",
   "execution_count": 7,
   "id": "75345c53",
   "metadata": {},
   "outputs": [
    {
     "name": "stdout",
     "output_type": "stream",
     "text": [
      "All happy numbers between 1 to 100 is: \n",
      "1\n",
      "7\n",
      "10\n",
      "13\n",
      "19\n",
      "23\n",
      "28\n",
      "31\n",
      "32\n",
      "44\n",
      "49\n",
      "68\n",
      "70\n",
      "79\n",
      "82\n",
      "86\n",
      "91\n",
      "94\n",
      "97\n",
      "100\n"
     ]
    }
   ],
   "source": [
    "def sumofdigit(num):\n",
    "    j = 1\n",
    "    sum = 0\n",
    "\n",
    "    while(num != 0):\n",
    "        rem = num%10\n",
    "        sum = sum + rem*rem\n",
    "        num = int(num/10)\n",
    "        j=j+1\n",
    "    return sum\n",
    "print(\"All happy numbers between 1 to 100 is: \")    \n",
    "for i in range(1, 101):\n",
    "    res = i\n",
    "    while(res != 1 and res != 4) :\n",
    "        res = sumofdigit(res)\n",
    "\n",
    "    if res == 1:\n",
    "        print(i)\n"
   ]
  },
  {
   "cell_type": "code",
   "execution_count": 12,
   "id": "f1f4217c",
   "metadata": {},
   "outputs": [
    {
     "name": "stdout",
     "output_type": "stream",
     "text": [
      "enter the number: 81\n",
      "it is a harshad number\n"
     ]
    }
   ],
   "source": [
    "def harshad(num):\n",
    "    sum = 0\n",
    "    temp = num\n",
    "\n",
    "    while(temp != 0):\n",
    "        rem = temp%10\n",
    "        sum = sum + rem\n",
    "        temp = int(temp/10)\n",
    "    if(num%sum == 0):\n",
    "        print(\"it is a harshad number\")\n",
    "    else:\n",
    "        print(\"it is not a harshad number\")\n",
    "\n",
    "num = int(input(\"enter the number: \"))\n",
    "harshad(num)\n"
   ]
  },
  {
   "cell_type": "markdown",
   "id": "6a24a162",
   "metadata": {},
   "source": [
    "# 5- Write a Python program to print all pronic numbers between 1 and 100?"
   ]
  },
  {
   "cell_type": "code",
   "execution_count": 21,
   "id": "96e6d658",
   "metadata": {},
   "outputs": [
    {
     "name": "stdout",
     "output_type": "stream",
     "text": [
      "2\n",
      " \n",
      "6\n",
      " \n",
      "12\n",
      " \n",
      "20\n",
      " \n",
      "30\n",
      " \n",
      "42\n",
      " \n",
      "56\n",
      " \n",
      "72\n",
      " \n",
      "90\n",
      " \n"
     ]
    }
   ],
   "source": [
    " \n",
    "def pronicnumber(num):    \n",
    "    flag = False;    \n",
    "        \n",
    "    for j in range(1, num+1):    \n",
    "        \n",
    "        if((j*(j+1)) == num):    \n",
    "            flag = True;    \n",
    "            break;    \n",
    "    return flag;      \n",
    "for i in range(1, 101):    \n",
    "    if(pronicnumber(i)):    \n",
    "        print(i),    \n",
    "        print(\" \"),     "
   ]
  },
  {
   "cell_type": "code",
   "execution_count": null,
   "id": "7a0e08f5",
   "metadata": {},
   "outputs": [],
   "source": []
  }
 ],
 "metadata": {
  "kernelspec": {
   "display_name": "Python 3",
   "language": "python",
   "name": "python3"
  },
  "language_info": {
   "codemirror_mode": {
    "name": "ipython",
    "version": 3
   },
   "file_extension": ".py",
   "mimetype": "text/x-python",
   "name": "python",
   "nbconvert_exporter": "python",
   "pygments_lexer": "ipython3",
   "version": "3.8.8"
  }
 },
 "nbformat": 4,
 "nbformat_minor": 5
}
