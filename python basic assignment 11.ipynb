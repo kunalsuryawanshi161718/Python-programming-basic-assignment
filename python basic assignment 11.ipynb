{
 "cells": [
  {
   "cell_type": "markdown",
   "id": "d4faf296",
   "metadata": {},
   "source": [
    "## 1. Create an assert statement that throws an AssertionError if the variable spam is a negative integer."
   ]
  },
  {
   "cell_type": "code",
   "execution_count": 1,
   "id": "f5ab2f5d",
   "metadata": {},
   "outputs": [
    {
     "ename": "AssertionError",
     "evalue": "following spam is -ve integer",
     "output_type": "error",
     "traceback": [
      "\u001b[1;31m---------------------------------------------------------------------------\u001b[0m",
      "\u001b[1;31mAssertionError\u001b[0m                            Traceback (most recent call last)",
      "\u001b[1;32m<ipython-input-1-e421f8b0f95f>\u001b[0m in \u001b[0;36m<module>\u001b[1;34m\u001b[0m\n\u001b[0;32m      1\u001b[0m \u001b[0mspam\u001b[0m \u001b[1;33m=\u001b[0m \u001b[1;33m-\u001b[0m\u001b[1;36m55\u001b[0m\u001b[1;33m\u001b[0m\u001b[1;33m\u001b[0m\u001b[0m\n\u001b[1;32m----> 2\u001b[1;33m \u001b[1;32massert\u001b[0m \u001b[0mspam\u001b[0m \u001b[1;33m>\u001b[0m \u001b[1;36m0\u001b[0m\u001b[1;33m,\u001b[0m\u001b[1;34m'following spam is -ve integer'\u001b[0m\u001b[1;33m\u001b[0m\u001b[1;33m\u001b[0m\u001b[0m\n\u001b[0m",
      "\u001b[1;31mAssertionError\u001b[0m: following spam is -ve integer"
     ]
    }
   ],
   "source": [
    "spam = -55\n",
    "assert spam > 0,'following spam is -ve integer'"
   ]
  },
  {
   "cell_type": "markdown",
   "id": "8a7abdb7",
   "metadata": {},
   "source": [
    "## 2. Write an assert statement that triggers an AssertionError if the variables eggs and bacon contain strings that are the same as each other, even if their cases are different (that is, &#39;hello&#39; and &#39;hello&#39; are considered the same, and &#39;goodbye&#39; and &#39;GOODbye&#39; are also considered the same)."
   ]
  },
  {
   "cell_type": "code",
   "execution_count": null,
   "id": "d6529798",
   "metadata": {},
   "outputs": [],
   "source": [
    "##case 1\n",
    "\n",
    "eggs = 'hello'\n",
    "bacon = 'hello'\n",
    "\n",
    "assert eggs.lower() != bacon.lower(), 'The eggs and bacon variables are the same!' "
   ]
  },
  {
   "cell_type": "code",
   "execution_count": null,
   "id": "f03274e9",
   "metadata": {},
   "outputs": [],
   "source": [
    "##case2\n",
    "\n",
    "eggs = 'goodbye'\n",
    "bacon = 'GOODbye'\n",
    "\n",
    "assert eggs.upper() != bacon.upper(), 'The eggs and bacon variables are the same!'"
   ]
  },
  {
   "cell_type": "markdown",
   "id": "4135b150",
   "metadata": {},
   "source": [
    "## 3. Create an assert statement that throws an AssertionError every time."
   ]
  },
  {
   "cell_type": "code",
   "execution_count": null,
   "id": "99e2a01f",
   "metadata": {},
   "outputs": [],
   "source": [
    "assert False, 'assertion error'"
   ]
  },
  {
   "cell_type": "markdown",
   "id": "abec4101",
   "metadata": {},
   "source": [
    "## 4. What are the two lines that must be present in your software in order to call logging.debug()?"
   ]
  },
  {
   "cell_type": "code",
   "execution_count": null,
   "id": "0227dfc1",
   "metadata": {},
   "outputs": [],
   "source": [
    "import logging as lg\n",
    "lg.basicConfig(level=lg.DEBUG, format=' %(asctime)s -%(levelname)s - %(message)s')\n",
    "lg"
   ]
  },
  {
   "cell_type": "markdown",
   "id": "657702ae",
   "metadata": {},
   "source": [
    "## 5. What are the two lines that your program must have in order to have logging.debug() send a logging message to a file named programLog.txt?"
   ]
  },
  {
   "cell_type": "code",
   "execution_count": null,
   "id": "47fc233e",
   "metadata": {},
   "outputs": [],
   "source": [
    "import logging as lg\n",
    "lg.basicConfig(filename='newlog1.txt', level=lg.DEBUG, format=' %(asctime)s - %(levelname)s - %(message)s')"
   ]
  },
  {
   "cell_type": "markdown",
   "id": "ad98e1a0",
   "metadata": {},
   "source": [
    "## 6. What are the five levels of logging?"
   ]
  },
  {
   "cell_type": "code",
   "execution_count": null,
   "id": "ec9442bd",
   "metadata": {},
   "outputs": [],
   "source": [
    "import logging\n",
    "logging.debug('This is a debug message')  #debug logging\n",
    "logging.info('This is an info message')   #info logging\n",
    "logging.warning('This is a warning message')  #warning logging\n",
    "logging.error('This is an error message')      #error logging\n",
    "logging.critical('This is a critical message') #critical logging\n",
    "\n"
   ]
  },
  {
   "cell_type": "markdown",
   "id": "bc1606a6",
   "metadata": {},
   "source": [
    "## 7. What line of code would you add to your software to disable all logging messages?"
   ]
  },
  {
   "cell_type": "code",
   "execution_count": null,
   "id": "ef37e7c8",
   "metadata": {},
   "outputs": [],
   "source": [
    "lg = logging.disable(logging.CRITICAL)\n",
    "lg"
   ]
  },
  {
   "cell_type": "markdown",
   "id": "c2fb89d4",
   "metadata": {},
   "source": [
    "## 8.Why is using logging messages better than using print() to display the same message?"
   ]
  },
  {
   "cell_type": "markdown",
   "id": "3c7a56d3",
   "metadata": {},
   "source": [
    "Ans: Using logging we can create and disable lower level logging messege it also provide timestamp. it is helpful during debugging.Logging is a more formal process of printing out program state and execution.  If you identify things you want to monitor, you can leave the logging statements in your code, and then selectively turn on the ones you want to print.  Logs let you answer questions like “How often did our pneumatics fire?” or “What command was running just before we experienced a brownout?” or “Which autonomous program executed and what happened during that command?"
   ]
  },
  {
   "cell_type": "markdown",
   "id": "fcf256d0",
   "metadata": {},
   "source": [
    "## 9. What are the differences between the Step Over, Step In, and Step Out buttons in the debugger?"
   ]
  },
  {
   "cell_type": "markdown",
   "id": "222fd0fd",
   "metadata": {},
   "source": [
    "Step over go inside the function.\n",
    "\n",
    "Step over move to the next line It does not go inside the function. It goes line by line. \n",
    "\n",
    "Step out is used to go outside the function."
   ]
  },
  {
   "cell_type": "markdown",
   "id": "76998c14",
   "metadata": {},
   "source": [
    "## 10.After you click Continue, when will the debugger stop ?\n",
    "\n",
    "Ans: The debugger will stop at the end line with a breakpoint."
   ]
  },
  {
   "cell_type": "markdown",
   "id": "6df81ebf",
   "metadata": {},
   "source": [
    "## 11. What is the concept of a breakpoint?\n",
    "Ans: The Python breakpoint() built-in function is a tool that allows developers to set points in code at which a debugger is called. By default, this function results in an instantiation of Python’s native debugger class.\n"
   ]
  },
  {
   "cell_type": "code",
   "execution_count": null,
   "id": "dd4c51f1",
   "metadata": {},
   "outputs": [],
   "source": [
    "# Create a loop over 5 integers\n",
    "for i in range(5):\n",
    "    # Stream i to stdout\n",
    "    print(i)\n",
    "    # Create breakpoint at # 3\n",
    "    if i == 3:\n",
    "        breakpoint()"
   ]
  },
  {
   "cell_type": "markdown",
   "id": "bc5d0d03",
   "metadata": {},
   "source": []
  }
 ],
 "metadata": {
  "kernelspec": {
   "display_name": "Python 3",
   "language": "python",
   "name": "python3"
  },
  "language_info": {
   "codemirror_mode": {
    "name": "ipython",
    "version": 3
   },
   "file_extension": ".py",
   "mimetype": "text/x-python",
   "name": "python",
   "nbconvert_exporter": "python",
   "pygments_lexer": "ipython3",
   "version": "3.8.8"
  }
 },
 "nbformat": 4,
 "nbformat_minor": 5
}
