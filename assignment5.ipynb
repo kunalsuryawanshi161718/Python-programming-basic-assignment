{
 "cells": [
  {
   "cell_type": "markdown",
   "id": "1c7d3a75",
   "metadata": {},
   "source": [
    "# 1- Write a Python Program to Find LCM?"
   ]
  },
  {
   "cell_type": "code",
   "execution_count": 3,
   "id": "fa453b12",
   "metadata": {},
   "outputs": [
    {
     "name": "stdout",
     "output_type": "stream",
     "text": [
      "enter 1st number: 24\n",
      "enter 2nd number: 36\n",
      "lcm is:  72\n"
     ]
    }
   ],
   "source": [
    "def lcm(n1,n2):\n",
    "    if n1>n2:\n",
    "        higher = n1\n",
    "    else:\n",
    "        higher = n2\n",
    "    value = higher\n",
    "    while True:\n",
    "        if higher%n1 == 0 and higher%n2==0:\n",
    "            print(\"lcm is: \", higher)\n",
    "            break\n",
    "        else:\n",
    "            higher = higher + value\n",
    "        \n",
    "n1 = int(input(\"enter 1st number: \"))\n",
    "n2 = int(input(\"enter 2nd number: \"))\n",
    "lcm(n1,n2)"
   ]
  },
  {
   "cell_type": "markdown",
   "id": "3fd218ec",
   "metadata": {},
   "source": [
    "# 2- Write a Python Program to Find HCF?"
   ]
  },
  {
   "cell_type": "code",
   "execution_count": 7,
   "id": "9b851d50",
   "metadata": {},
   "outputs": [
    {
     "name": "stdout",
     "output_type": "stream",
     "text": [
      "enter 1st value: 64\n",
      "enter 2nd value: 48\n",
      "16\n"
     ]
    }
   ],
   "source": [
    "def hcf(a,b):\n",
    "    \n",
    "    if b == 0:\n",
    "        return a\n",
    "    else:\n",
    "        return hcf(b,a%b)\n",
    "\n",
    "n1 = int(input(\"enter 1st value: \"))\n",
    "n2 = int(input(\"enter 2nd value: \"))\n",
    "print(hcf(n1,n2))\n",
    "        "
   ]
  },
  {
   "cell_type": "markdown",
   "id": "27f6b0af",
   "metadata": {},
   "source": [
    "# 3- Python program to convert decimal into other number systems"
   ]
  },
  {
   "cell_type": "code",
   "execution_count": 2,
   "id": "99edfc29",
   "metadata": {},
   "outputs": [
    {
     "name": "stdout",
     "output_type": "stream",
     "text": [
      "enter the value in decimal: 456\n",
      "The decimal value of 456 is:\n",
      "0b111001000 in binary.\n",
      "0o710 in octal.\n",
      "0x1c8 in hexadecimal.\n"
     ]
    }
   ],
   "source": [
    "\n",
    "def conversion(dec):\n",
    "\n",
    "    print(\"The decimal value of\", dec, \"is:\")\n",
    "    print(bin(dec), \"in binary.\")\n",
    "    print(oct(dec), \"in octal.\")\n",
    "    print(hex(dec), \"in hexadecimal.\")\n",
    "\n",
    "dec = int(input(\"enter the value in decimal: \"))\n",
    "conversion(dec)"
   ]
  },
  {
   "cell_type": "markdown",
   "id": "c56f8077",
   "metadata": {},
   "source": [
    "# 4- Write a Python Program To Find ASCII value of a character?"
   ]
  },
  {
   "cell_type": "code",
   "execution_count": 9,
   "id": "a45dba8d",
   "metadata": {},
   "outputs": [
    {
     "name": "stdout",
     "output_type": "stream",
     "text": [
      "enter the character: kunal\n",
      "The Ascii value of:k is 107\n",
      "The Ascii value of:u is 117\n",
      "The Ascii value of:n is 110\n",
      "The Ascii value of:a is 97\n",
      "The Ascii value of:l is 108\n"
     ]
    }
   ],
   "source": [
    "character = str(input(\"enter the character: \"))\n",
    "for c in character:\n",
    "    print(\"The Ascii value of:\" + c + \" is\" , ord(c) )"
   ]
  },
  {
   "cell_type": "markdown",
   "id": "56d41175",
   "metadata": {},
   "source": [
    "# 5-Write a Python Program to Make a Simple Calculator with 4 basic mathematical operations?"
   ]
  },
  {
   "cell_type": "code",
   "execution_count": 19,
   "id": "b0446bd8",
   "metadata": {},
   "outputs": [
    {
     "name": "stdout",
     "output_type": "stream",
     "text": [
      "456\n",
      "759\n",
      "enter the operation to perform ('+-*/'): /\n"
     ]
    },
    {
     "data": {
      "text/plain": [
       "0.6007905138339921"
      ]
     },
     "execution_count": 19,
     "metadata": {},
     "output_type": "execute_result"
    }
   ],
   "source": [
    "def calculator(a,b):\n",
    "    if operation == '+':\n",
    "        return a+b\n",
    "    elif operation == '-':\n",
    "        return a-b\n",
    "    elif operation == '*':\n",
    "        return a*b\n",
    "    elif operation == '/':\n",
    "        return a/b\n",
    "    else:\n",
    "        return 'invalid operation'\n",
    "\n",
    "a = int(input())\n",
    "b = int(input())\n",
    "operation = str(input(\"enter the operation to perform ('+-*/'): \"))\n",
    "calculator(a,b)"
   ]
  },
  {
   "cell_type": "code",
   "execution_count": null,
   "id": "c9957511",
   "metadata": {},
   "outputs": [],
   "source": []
  }
 ],
 "metadata": {
  "kernelspec": {
   "display_name": "Python 3",
   "language": "python",
   "name": "python3"
  },
  "language_info": {
   "codemirror_mode": {
    "name": "ipython",
    "version": 3
   },
   "file_extension": ".py",
   "mimetype": "text/x-python",
   "name": "python",
   "nbconvert_exporter": "python",
   "pygments_lexer": "ipython3",
   "version": "3.8.8"
  }
 },
 "nbformat": 4,
 "nbformat_minor": 5
}
