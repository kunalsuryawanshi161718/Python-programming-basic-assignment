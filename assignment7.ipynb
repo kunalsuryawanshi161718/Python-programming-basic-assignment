{
 "cells": [
  {
   "cell_type": "markdown",
   "id": "9b9a6d89",
   "metadata": {},
   "source": [
    "# 1- Write a Python Program to find sum of array?"
   ]
  },
  {
   "cell_type": "code",
   "execution_count": 2,
   "id": "a037352f",
   "metadata": {},
   "outputs": [
    {
     "name": "stdout",
     "output_type": "stream",
     "text": [
      "enter the number of elements in list: 5\n",
      "enter the element: 0 10\n",
      "enter the element: 1 11\n",
      "enter the element: 2 12\n",
      "enter the element: 3 13\n",
      "enter the element: 4 15\n",
      "result:  61\n"
     ]
    }
   ],
   "source": [
    "lt = []\n",
    "n = int(input(\"enter the number of elements in list: \"))\n",
    "for i in range(0,n):\n",
    "    t = int(input(\"enter the element: \" + str(i) + \" \"))\n",
    "    lt.append(t)\n",
    "sum = 0\n",
    "for et in lt:\n",
    "    sum = sum + et\n",
    "\n",
    "print(\"result: \",sum)"
   ]
  },
  {
   "cell_type": "markdown",
   "id": "cc3b7e5b",
   "metadata": {},
   "source": [
    "# 2- Write a Python Program to find largest element in an array?"
   ]
  },
  {
   "cell_type": "code",
   "execution_count": 14,
   "id": "f8267b9c",
   "metadata": {},
   "outputs": [
    {
     "name": "stdout",
     "output_type": "stream",
     "text": [
      "enter the number of elements in list: 5\n",
      "enter the element: 0 12\n",
      "enter the element: 1 18\n",
      "enter the element: 2 49\n",
      "enter the element: 3 13\n",
      "enter the element: 4 18\n",
      "Largest element is:  49\n"
     ]
    }
   ],
   "source": [
    "lt = []\n",
    "n = int(input(\"enter the number of elements in list: \"))\n",
    "for i in range(0,n):\n",
    "    t = int(input(\"enter the element: \" + str(i) + \" \"))\n",
    "    lt.append(t)\n",
    "    \n",
    "lt.sort()\n",
    "result = lt[-1]\n",
    "\n",
    "print(\"Largest element is: \",result)"
   ]
  },
  {
   "cell_type": "markdown",
   "id": "465de86a",
   "metadata": {},
   "source": [
    "# 3- Write a Python Program for array rotation?"
   ]
  },
  {
   "cell_type": "code",
   "execution_count": 21,
   "id": "8fc4604b",
   "metadata": {},
   "outputs": [
    {
     "name": "stdout",
     "output_type": "stream",
     "text": [
      "enter the number of elements in list: 5\n",
      "enter the element: 0 10\n",
      "enter the element: 1 20\n",
      "enter the element: 2 30\n",
      "enter the element: 3 40\n",
      "enter the element: 4 50\n",
      "List before rotation:  [10, 20, 30, 40, 50]\n",
      "enter the number of rotation: 2\n",
      "30\n",
      "40\n",
      "50\n",
      "10\n",
      "20\n",
      "list after rotation:  [30, 40, 50, 10, 20]\n"
     ]
    }
   ],
   "source": [
    "lt = []\n",
    "n = int(input(\"enter the number of elements in list: \"))\n",
    "for i in range(0,n):\n",
    "    t = int(input(\"enter the element: \" + str(i) + \" \"))\n",
    "    lt.append(t)\n",
    "print(\"List before rotation: \" , lt)\n",
    "shift = int(input(\"enter the number of rotation: \"))\n",
    "for i in range(0,shift):\n",
    "    temp = lt[0]\n",
    "    for j in range(0,len(lt)-1):\n",
    "        lt[j] = lt[j+1]\n",
    "    lt[len(lt)-1] = temp\n",
    "\n",
    "for i in range(0,len(lt)):\n",
    "    print(lt[i])\n",
    "print(\"list after rotation: \",lt)"
   ]
  },
  {
   "cell_type": "markdown",
   "id": "9551992e",
   "metadata": {},
   "source": [
    "# 4- Write a Python Program to Split the array and add the first part to the end?"
   ]
  },
  {
   "cell_type": "code",
   "execution_count": 22,
   "id": "2f742749",
   "metadata": {},
   "outputs": [
    {
     "name": "stdout",
     "output_type": "stream",
     "text": [
      "5 6 52 36 12 10 "
     ]
    }
   ],
   "source": [
    "def splitArr(arr, n, k): \n",
    "    for i in range(0, k): \n",
    "        x = arr[0]\n",
    "        for j in range(0, n-1):\n",
    "            arr[j] = arr[j + 1]\n",
    "          \n",
    "        arr[n-1] = x\n",
    "          \n",
    "\n",
    "arr = [12, 10, 5, 6, 52, 36]\n",
    "n = len(arr)\n",
    "position = 2\n",
    "  \n",
    "splitArr(arr, n, position)\n",
    "  \n",
    "for i in range(0, n): \n",
    "    print(arr[i], end = ' ')"
   ]
  },
  {
   "cell_type": "markdown",
   "id": "2e74da9c",
   "metadata": {},
   "source": [
    "# 5- Write a Python Program to check if given array is Monotonic?"
   ]
  },
  {
   "cell_type": "code",
   "execution_count": 24,
   "id": "ae04ba70",
   "metadata": {},
   "outputs": [
    {
     "name": "stdout",
     "output_type": "stream",
     "text": [
      "True\n"
     ]
    }
   ],
   "source": [
    "def isMonotonic(A):\n",
    "  \n",
    "    return (all(A[i] <= A[i + 1] for i in range(len(A) - 1)) or\n",
    "            all(A[i] >= A[i + 1] for i in range(len(A) - 1)))\n",
    "  \n",
    "\n",
    "A = [6, 5, 4, 4]\n",
    "  \n",
    "print(isMonotonic(A))\n"
   ]
  },
  {
   "cell_type": "code",
   "execution_count": null,
   "id": "6f3ffc5a",
   "metadata": {},
   "outputs": [],
   "source": []
  }
 ],
 "metadata": {
  "kernelspec": {
   "display_name": "Python 3",
   "language": "python",
   "name": "python3"
  },
  "language_info": {
   "codemirror_mode": {
    "name": "ipython",
    "version": 3
   },
   "file_extension": ".py",
   "mimetype": "text/x-python",
   "name": "python",
   "nbconvert_exporter": "python",
   "pygments_lexer": "ipython3",
   "version": "3.8.8"
  }
 },
 "nbformat": 4,
 "nbformat_minor": 5
}
