{
 "cells": [
  {
   "cell_type": "markdown",
   "id": "fcb3a6da",
   "metadata": {},
   "source": [
    "# 1.Write a Python Program to Find the Factorial of a Number?"
   ]
  },
  {
   "cell_type": "code",
   "execution_count": 1,
   "id": "8321a0a4",
   "metadata": {},
   "outputs": [
    {
     "name": "stdout",
     "output_type": "stream",
     "text": [
      "enter the number5\n",
      "factorial of number is: \n",
      "120\n"
     ]
    }
   ],
   "source": [
    "n = int(input(\"enter the number\"))\n",
    "fact = 1\n",
    "for i in range(1,n):\n",
    "    fact = fact*n\n",
    "    n = n-1\n",
    "print(\"factorial of number is: \")\n",
    "print(fact)"
   ]
  },
  {
   "cell_type": "markdown",
   "id": "7bd3e664",
   "metadata": {},
   "source": [
    "# 2. Write a Python Program to Display the multiplication Table?"
   ]
  },
  {
   "cell_type": "code",
   "execution_count": 2,
   "id": "e3224a8f",
   "metadata": {},
   "outputs": [
    {
     "name": "stdout",
     "output_type": "stream",
     "text": [
      "enter the number6\n",
      "6 x 1 = 6\n",
      "6 x 2 = 12\n",
      "6 x 3 = 18\n",
      "6 x 4 = 24\n",
      "6 x 5 = 30\n",
      "6 x 6 = 36\n",
      "6 x 7 = 42\n",
      "6 x 8 = 48\n",
      "6 x 9 = 54\n",
      "6 x 10 = 60\n"
     ]
    }
   ],
   "source": [
    "n = int(input(\"enter the number\"))\n",
    "a = 10\n",
    "for i in range(0,a):\n",
    "    i = i + 1\n",
    "    print(n,\"x\",i,\"=\",n*i)"
   ]
  },
  {
   "cell_type": "markdown",
   "id": "67d72b13",
   "metadata": {},
   "source": [
    "# 3. Write a Python Program to Print the Fibonacci sequence?"
   ]
  },
  {
   "cell_type": "code",
   "execution_count": 3,
   "id": "1daa4af1",
   "metadata": {},
   "outputs": [
    {
     "name": "stdout",
     "output_type": "stream",
     "text": [
      "enter the number7\n",
      "0\n",
      "1\n",
      "1\n",
      "2\n",
      "3\n",
      "5\n",
      "8\n"
     ]
    }
   ],
   "source": [
    "n = int(input(\"enter the number\"))\n",
    "a = 0\n",
    "b = 1\n",
    "print(a)\n",
    "print(b)\n",
    "for i in range(2,n):\n",
    "    \n",
    "    c = a+b\n",
    "    a = b\n",
    "    b = c\n",
    "    print(c)\n",
    "    "
   ]
  },
  {
   "cell_type": "markdown",
   "id": "10da866d",
   "metadata": {},
   "source": [
    "# 4. Write a Python Program to Check Armstrong Number?"
   ]
  },
  {
   "cell_type": "code",
   "execution_count": 4,
   "id": "aa8b6089",
   "metadata": {},
   "outputs": [
    {
     "name": "stdout",
     "output_type": "stream",
     "text": [
      "enter the number9\n",
      "0 is an amstrong number\n"
     ]
    }
   ],
   "source": [
    "n = int(input(\"enter the number: \"))\n",
    "sum = 0\n",
    "\n",
    "order = len(str(n))\n",
    "copyn = n\n",
    "while(n>0):\n",
    "    digit = n%10\n",
    "    sum += digit**order\n",
    "    n = n//10\n",
    "if(sum == copyn):\n",
    "    print(f\"{n} is an amstrong number\")\n",
    "else:\n",
    "    print(f\"{copyn} is not an amstrong number\")"
   ]
  },
  {
   "cell_type": "markdown",
   "id": "209e1307",
   "metadata": {},
   "source": [
    "# 6. Write a Python Program to Find the Sum of Natural Numbers?"
   ]
  },
  {
   "cell_type": "code",
   "execution_count": 23,
   "id": "2160b022",
   "metadata": {},
   "outputs": [
    {
     "name": "stdout",
     "output_type": "stream",
     "text": [
      "ENTER THE NUMBER TO FIND SUM: 16\n",
      "136\n"
     ]
    }
   ],
   "source": [
    "\n",
    "def num_m(num):\n",
    "    if num < 0:\n",
    "        print(\"Enter a positive number\")\n",
    "    else:\n",
    "        sum = 0\n",
    "        while(num > 0):\n",
    "            sum += num\n",
    "            num -= 1\n",
    "        print(sum)\n",
    "\n",
    "\n",
    "num = int(input(\"ENTER THE NUMBER TO FIND SUM: \"))\n",
    "m = num_m(num)"
   ]
  },
  {
   "cell_type": "code",
   "execution_count": null,
   "id": "8310554d",
   "metadata": {},
   "outputs": [],
   "source": []
  }
 ],
 "metadata": {
  "kernelspec": {
   "display_name": "Python 3",
   "language": "python",
   "name": "python3"
  },
  "language_info": {
   "codemirror_mode": {
    "name": "ipython",
    "version": 3
   },
   "file_extension": ".py",
   "mimetype": "text/x-python",
   "name": "python",
   "nbconvert_exporter": "python",
   "pygments_lexer": "ipython3",
   "version": "3.8.8"
  }
 },
 "nbformat": 4,
 "nbformat_minor": 5
}
