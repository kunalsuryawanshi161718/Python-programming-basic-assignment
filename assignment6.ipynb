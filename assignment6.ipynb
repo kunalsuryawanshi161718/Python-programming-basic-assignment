{
 "cells": [
  {
   "cell_type": "markdown",
   "id": "f1be5ec9",
   "metadata": {},
   "source": [
    "# 1-Write a Python Program to Display Fibonacci Sequence Using Recursion?"
   ]
  },
  {
   "cell_type": "code",
   "execution_count": 7,
   "id": "93ee6b9e",
   "metadata": {},
   "outputs": [
    {
     "name": "stdout",
     "output_type": "stream",
     "text": [
      "enter the number of terms: 9\n",
      "0\n",
      "1\n",
      "1\n",
      "2\n",
      "3\n",
      "5\n",
      "8\n",
      "13\n",
      "21\n",
      "34\n"
     ]
    }
   ],
   "source": [
    "def fibo(n):\n",
    "    if n == 0:\n",
    "        return 0\n",
    "    elif n == 1:\n",
    "        return 1\n",
    "    return fibo(n-1) + fibo(n-2)\n",
    "\n",
    "\n",
    "\n",
    "n = int(input(\"enter the number of terms: \"))\n",
    "for i in range(n+1):\n",
    "    print(fibo(i))"
   ]
  },
  {
   "cell_type": "markdown",
   "id": "e4f27814",
   "metadata": {},
   "source": [
    "# 2- Write a Python Program to Find Factorial of Number Using Recursion?"
   ]
  },
  {
   "cell_type": "code",
   "execution_count": 24,
   "id": "f6e8575d",
   "metadata": {},
   "outputs": [
    {
     "name": "stdout",
     "output_type": "stream",
     "text": [
      "eneter the number: 6\n",
      "factorial of 6 is 720\n"
     ]
    }
   ],
   "source": [
    "def fact(n):\n",
    "    if n == 0:\n",
    "        return 1\n",
    "    return n * fibo(n-1)\n",
    "\n",
    "\n",
    "n = int(input(\"eneter the number: \"))\n",
    "result = fact(n)\n",
    "print(\"factorial of \" + str(n) + \" is \" + str(result))"
   ]
  },
  {
   "cell_type": "markdown",
   "id": "4b4da8f6",
   "metadata": {},
   "source": [
    "# 3- Write a Python Program to calculate your Body Mass Index?"
   ]
  },
  {
   "cell_type": "code",
   "execution_count": 34,
   "id": "685bb86c",
   "metadata": {},
   "outputs": [
    {
     "name": "stdout",
     "output_type": "stream",
     "text": [
      "enter the height in meter sq.: 1.75\n",
      "enter the weight in kg: 70\n",
      "Body mass is: 22.857142857142858\n"
     ]
    }
   ],
   "source": [
    "def body_mass(x,y):\n",
    "    z = y/(x**2)\n",
    "    return z\n",
    "\n",
    "Height = float(input(\"enter the height in meter sq.: \"))\n",
    "Weight = float(input(\"enter the weight in kg: \"))\n",
    "print(\"Body mass is: \" + str(body_mass(Height,Weight)))\n"
   ]
  },
  {
   "cell_type": "markdown",
   "id": "4fc78b9e",
   "metadata": {},
   "source": [
    "# 4- Write a Python Program to calculate the natural logarithm of any number?"
   ]
  },
  {
   "cell_type": "code",
   "execution_count": 42,
   "id": "18fa56d3",
   "metadata": {},
   "outputs": [
    {
     "name": "stdout",
     "output_type": "stream",
     "text": [
      "enter the natural number: 5\n",
      "log of 5 is 1.6094379124341003\n"
     ]
    }
   ],
   "source": [
    "import math\n",
    "\n",
    "def log(n):\n",
    "    l = math.log(n)\n",
    "    return l\n",
    "\n",
    "n = int(input(\"enter the natural number: \"))\n",
    "print(\"log of \" + str(n) + \" is \" + str(log(n)))"
   ]
  },
  {
   "cell_type": "code",
   "execution_count": 40,
   "id": "47ce1683",
   "metadata": {},
   "outputs": [
    {
     "data": {
      "text/plain": [
       "1.6094379124341003"
      ]
     },
     "execution_count": 40,
     "metadata": {},
     "output_type": "execute_result"
    }
   ],
   "source": [
    "math.log(5)"
   ]
  },
  {
   "cell_type": "markdown",
   "id": "361a4cc6",
   "metadata": {},
   "source": [
    "# 5 - Write a Python Program for cube sum of first n natural numbers?"
   ]
  },
  {
   "cell_type": "code",
   "execution_count": 48,
   "id": "708510dd",
   "metadata": {},
   "outputs": [
    {
     "name": "stdout",
     "output_type": "stream",
     "text": [
      "enter the number: 5\n",
      "cube sum of first 5 natural numbers:  is 225\n"
     ]
    }
   ],
   "source": [
    "def sum_of_series(n):\n",
    "    sum = 0\n",
    "    for i in range(1,n+1):\n",
    "        sum += i*i*i\n",
    "    return sum\n",
    "\n",
    "n = int(input(\"enter the number: \"))\n",
    "print( \"cube sum of first \" + str(n) + \" natural numbers: \" + \" is \" + str(sum_of_series(n)))"
   ]
  },
  {
   "cell_type": "code",
   "execution_count": null,
   "id": "f10be6e7",
   "metadata": {},
   "outputs": [],
   "source": []
  }
 ],
 "metadata": {
  "kernelspec": {
   "display_name": "Python 3",
   "language": "python",
   "name": "python3"
  },
  "language_info": {
   "codemirror_mode": {
    "name": "ipython",
    "version": 3
   },
   "file_extension": ".py",
   "mimetype": "text/x-python",
   "name": "python",
   "nbconvert_exporter": "python",
   "pygments_lexer": "ipython3",
   "version": "3.8.8"
  }
 },
 "nbformat": 4,
 "nbformat_minor": 5
}
