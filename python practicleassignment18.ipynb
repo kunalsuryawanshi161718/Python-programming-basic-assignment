{
 "cells": [
  {
   "cell_type": "markdown",
   "id": "bde460ad",
   "metadata": {},
   "source": [
    "## Question 1\n",
    "Create a function that takes a list of non-negative integers and strings and return a new list\n",
    "without the strings."
   ]
  },
  {
   "cell_type": "code",
   "execution_count": 2,
   "id": "8f315168",
   "metadata": {},
   "outputs": [
    {
     "name": "stdout",
     "output_type": "stream",
     "text": [
      "[1, 2]\n"
     ]
    }
   ],
   "source": [
    "l = [1,2,'a','b']\n",
    "def filter_list(l):\n",
    "    new_list = []\n",
    "    for x in l:\n",
    "        if type(x) == int:\n",
    "            new_list.append(x)\n",
    "    return new_list\n",
    "print(filter_list(l))"
   ]
  },
  {
   "cell_type": "markdown",
   "id": "786005f8",
   "metadata": {},
   "source": [
    "## Question 2\n",
    "The 'Reverser' takes a string as input and returns that string in reverse order, with the\n",
    "\n",
    "opposite case.\n",
    "\n",
    "Examples\n",
    "\n",
    "reverse('Hello World') ➞ 'DLROw OLLEh'\n",
    "\n",
    "reverse('ReVeRsE') ➞ 'eSrEvEr'\n",
    "\n",
    "reverse('Radar') ➞ 'RADAr'"
   ]
  },
  {
   "cell_type": "code",
   "execution_count": 3,
   "id": "43b97f70",
   "metadata": {},
   "outputs": [
    {
     "name": "stdout",
     "output_type": "stream",
     "text": [
      "DLROw OLLEh\n"
     ]
    }
   ],
   "source": [
    "def reverse(str):\n",
    "    str = str[::-1]\n",
    "    return str.swapcase()\n",
    "    \n",
    "print(reverse('Hello World'))"
   ]
  },
  {
   "cell_type": "code",
   "execution_count": 4,
   "id": "9b8b8f20",
   "metadata": {},
   "outputs": [
    {
     "data": {
      "text/plain": [
       "'eSrEvEr'"
      ]
     },
     "execution_count": 4,
     "metadata": {},
     "output_type": "execute_result"
    }
   ],
   "source": [
    "reverse('ReVeRsE')"
   ]
  },
  {
   "cell_type": "code",
   "execution_count": 5,
   "id": "45745043",
   "metadata": {},
   "outputs": [
    {
     "data": {
      "text/plain": [
       "'RADAr'"
      ]
     },
     "execution_count": 5,
     "metadata": {},
     "output_type": "execute_result"
    }
   ],
   "source": [
    "reverse('Radar')"
   ]
  },
  {
   "cell_type": "markdown",
   "id": "2054761f",
   "metadata": {},
   "source": [
    "## Question 3\n",
    "\n",
    "You can assign variables from lists like this:\n",
    "\n",
    "lst = [1, 2, 3, 4, 5, 6]\n",
    "\n",
    "first = lst[0]\n",
    "\n",
    "middle = lst[1:-1]\n",
    "\n",
    "last = lst[-1]\n",
    "\n",
    "print(first) ➞ outputs 1\n",
    "\n",
    "print(middle) ➞ outputs [2, 3, 4, 5]\n",
    "\n",
    "print(last) ➞ outputs 6\n",
    "\n",
    "With Python 3, you can assign variables from lists in a much more succinct way. Create\n",
    "\n",
    "variables first, middle and last from the given list using destructuring assignment\n",
    "\n",
    "(check the Resources tab for some examples), where:\n",
    "\n",
    "first ➞ 1\n",
    "\n",
    "middle ➞ [2, 3, 4, 5]\n",
    "\n",
    "last ➞ 6\n",
    "\n",
    "\n",
    "Your task is to unpack the list writeyourcodehere into three variables, being first,\n",
    "\n",
    "middle, and last, with middle being everything in between the first and last element. Then\n",
    "\n",
    "print all three variables."
   ]
  },
  {
   "cell_type": "code",
   "execution_count": 6,
   "id": "ef8be60c",
   "metadata": {},
   "outputs": [
    {
     "data": {
      "text/plain": [
       "1"
      ]
     },
     "execution_count": 6,
     "metadata": {},
     "output_type": "execute_result"
    }
   ],
   "source": [
    "lst = [1, 2, 3, 4, 5, 6]\n",
    "first ,*middle,last = lst\n",
    "first"
   ]
  },
  {
   "cell_type": "code",
   "execution_count": 10,
   "id": "9253a596",
   "metadata": {},
   "outputs": [
    {
     "data": {
      "text/plain": [
       "[2, 3, 4, 5]"
      ]
     },
     "execution_count": 10,
     "metadata": {},
     "output_type": "execute_result"
    }
   ],
   "source": [
    "middle"
   ]
  },
  {
   "cell_type": "code",
   "execution_count": 9,
   "id": "b72db9fb",
   "metadata": {},
   "outputs": [
    {
     "data": {
      "text/plain": [
       "6"
      ]
     },
     "execution_count": 9,
     "metadata": {},
     "output_type": "execute_result"
    }
   ],
   "source": [
    "last"
   ]
  },
  {
   "cell_type": "markdown",
   "id": "da88f5b0",
   "metadata": {},
   "source": [
    "## Question 4\n",
    "\n",
    "Write a function that calculates the factorial of a number recursively.\n",
    "\n",
    "Examples\n",
    "\n",
    "factorial(5) ➞ 120\n",
    "\n",
    "factorial(3) ➞ 6\n",
    "\n",
    "factorial(1) ➞ 1\n",
    "\n",
    "factorial(0) ➞ 1"
   ]
  },
  {
   "cell_type": "code",
   "execution_count": 12,
   "id": "4e6a3597",
   "metadata": {},
   "outputs": [
    {
     "name": "stdout",
     "output_type": "stream",
     "text": [
      "enter a number :3\n",
      "Factorial of 3 is 6\n"
     ]
    }
   ],
   "source": [
    "def factorial(n):     \n",
    "    if n == 0:\n",
    "        return 1    \n",
    "    return n * factorial(n-1)\n",
    "\n",
    "num = int(input('enter a number :'))\n",
    "print(\"Factorial of\", num, \"is\", factorial(num))"
   ]
  },
  {
   "cell_type": "markdown",
   "id": "9cd60398",
   "metadata": {},
   "source": [
    "## Question 5\n",
    "\n",
    "Write a function that moves all elements of one type to the end of the list.\n",
    "\n",
    "Examples\n",
    "\n",
    "move_to_end([1, 3, 2, 4, 4, 1], 1) ➞ [3, 2, 4, 4, 1, 1]\n",
    "\n",
    "Move all the 1s to the end of the array.\n",
    "\n",
    "move_to_end([7, 8, 9, 1, 2, 3, 4], 9) ➞ [7, 8, 1, 2, 3, 4, 9]\n",
    "\n",
    "move_to_end(['a', 'a', 'a', 'b'], 'a') ➞ ['b', 'a', 'a', 'a']"
   ]
  },
  {
   "cell_type": "code",
   "execution_count": 14,
   "id": "32b1833e",
   "metadata": {},
   "outputs": [
    {
     "name": "stdout",
     "output_type": "stream",
     "text": [
      "7 8 4 1 2 3 9 "
     ]
    }
   ],
   "source": [
    "def move_to_end(array, toMove):\n",
    "     \n",
    "    i = 0\n",
    " \n",
    "    # Mark the right pointer\n",
    "    j = len(array) - 1\n",
    "  \n",
    "    # Iterate untill left pointer\n",
    "    # crosses the right pointer\n",
    "    while (i < j):\n",
    "  \n",
    "        while (i < j and array[j] == toMove):\n",
    "  \n",
    "            # decrement right pointer\n",
    "            j-=1\n",
    "  \n",
    "        if (array[i] == toMove):\n",
    "  \n",
    "            # swap the two elements\n",
    "            # in the array\n",
    "            array[i], array[j] = array[j] , array[i]\n",
    "  \n",
    "        # increment left pointer\n",
    "        i += 1\n",
    "  \n",
    "    # return the result\n",
    "    return array\n",
    "arr = [7, 8, 9, 1, 2, 3, 4]\n",
    "k = 9\n",
    "ans = move_to_end(arr, k)\n",
    "for i in range(len(arr)):\n",
    "    print(ans[i] ,end= \" \")  "
   ]
  },
  {
   "cell_type": "code",
   "execution_count": 15,
   "id": "eb33cd14",
   "metadata": {},
   "outputs": [
    {
     "name": "stdout",
     "output_type": "stream",
     "text": [
      "4 3 2 4 1 1 "
     ]
    }
   ],
   "source": [
    "arr = [1, 3, 2, 4, 4, 1]\n",
    "k = 1\n",
    "ans = move_to_end(arr, k)\n",
    "for i in range(len(arr)):\n",
    "    print(ans[i] ,end= \" \")"
   ]
  },
  {
   "cell_type": "code",
   "execution_count": 16,
   "id": "f40588d3",
   "metadata": {},
   "outputs": [
    {
     "name": "stdout",
     "output_type": "stream",
     "text": [
      "b a a a "
     ]
    }
   ],
   "source": [
    "arr = ['a', 'a', 'a', 'b']\n",
    "k = 'a'\n",
    "ans = move_to_end(arr, k)\n",
    "for i in range(len(arr)):\n",
    "    print(ans[i] ,end= \" \")"
   ]
  },
  {
   "cell_type": "code",
   "execution_count": null,
   "id": "4dc4a4b1",
   "metadata": {},
   "outputs": [],
   "source": []
  }
 ],
 "metadata": {
  "kernelspec": {
   "display_name": "Python 3",
   "language": "python",
   "name": "python3"
  },
  "language_info": {
   "codemirror_mode": {
    "name": "ipython",
    "version": 3
   },
   "file_extension": ".py",
   "mimetype": "text/x-python",
   "name": "python",
   "nbconvert_exporter": "python",
   "pygments_lexer": "ipython3",
   "version": "3.8.8"
  }
 },
 "nbformat": 4,
 "nbformat_minor": 5
}
