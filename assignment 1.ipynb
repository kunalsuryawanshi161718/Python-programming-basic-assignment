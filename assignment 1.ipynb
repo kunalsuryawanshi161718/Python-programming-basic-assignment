{
 "cells": [
  {
   "cell_type": "markdown",
   "id": "f020a11b",
   "metadata": {},
   "source": [
    "# Write a Python program to print \"Hello Python\"?"
   ]
  },
  {
   "cell_type": "code",
   "execution_count": 1,
   "id": "b0e533f6",
   "metadata": {},
   "outputs": [
    {
     "name": "stdout",
     "output_type": "stream",
     "text": [
      "hello python\n"
     ]
    }
   ],
   "source": [
    "print(\"hello python\")"
   ]
  },
  {
   "cell_type": "markdown",
   "id": "e10cfa6a",
   "metadata": {},
   "source": [
    "# Write a Python program to do arithmetical operations addition and division.?"
   ]
  },
  {
   "cell_type": "code",
   "execution_count": 11,
   "id": "99c17d54",
   "metadata": {},
   "outputs": [
    {
     "name": "stdout",
     "output_type": "stream",
     "text": [
      "enter 1st number: 5\n",
      "enter 2nd number: 5\n",
      "10\n",
      "1.0\n"
     ]
    }
   ],
   "source": [
    "a = int(input(\"enter 1st number: \"))\n",
    "b = int(input(\"enter 2nd number: \"))\n",
    "\n",
    "\n",
    "add = a+b\n",
    "div = a/b\n",
    "\n",
    "print(add)\n",
    "print(div)"
   ]
  },
  {
   "cell_type": "markdown",
   "id": "2e7d6370",
   "metadata": {},
   "source": [
    "# Write a Python program to find the area of a triangle?"
   ]
  },
  {
   "cell_type": "code",
   "execution_count": 13,
   "id": "7099c566",
   "metadata": {},
   "outputs": [
    {
     "name": "stdout",
     "output_type": "stream",
     "text": [
      "enter the length of triangle: 6\n",
      "enter the breath of triangle :6\n",
      "enter height of triangle : 6\n",
      "area of triangle is:  18.0\n"
     ]
    }
   ],
   "source": [
    "l = int(input(\"enter the length of triangle: \"))\n",
    "b = int(input(\"enter the breath of triangle :\"))\n",
    "h = int(input(\"enter height of triangle : \"))\n",
    "\n",
    "area = (l*b)/2\n",
    "print(\"area of triangle is: \",area)"
   ]
  },
  {
   "cell_type": "markdown",
   "id": "09ae0019",
   "metadata": {},
   "source": [
    "# Write a Python program to swap two variables?"
   ]
  },
  {
   "cell_type": "code",
   "execution_count": 22,
   "id": "4fb37713",
   "metadata": {},
   "outputs": [
    {
     "name": "stdout",
     "output_type": "stream",
     "text": [
      "Please enter value for P: 6\n",
      "Please enter value for Q: 5\n",
      "The Value of P after swapping:  5\n",
      "The Value of Q after swapping:  6\n"
     ]
    }
   ],
   "source": [
    "P = int( input(\"Please enter value for P: \"))  \n",
    "Q = int( input(\"Please enter value for Q: \"))   \n",
    "temp = P  \n",
    "P = Q  \n",
    "Q = temp  \n",
    "   \n",
    "print (\"The Value of P after swapping: \", P)  \n",
    "print (\"The Value of Q after swapping: \", Q)  \n"
   ]
  },
  {
   "cell_type": "markdown",
   "id": "6dd9a1f6",
   "metadata": {},
   "source": [
    "# Write a Python program to generate a random number?"
   ]
  },
  {
   "cell_type": "code",
   "execution_count": 23,
   "id": "8bdfbaad",
   "metadata": {},
   "outputs": [
    {
     "data": {
      "text/plain": [
       "8"
      ]
     },
     "execution_count": 23,
     "metadata": {},
     "output_type": "execute_result"
    }
   ],
   "source": [
    "import random as r\n",
    "r.randint(0,11)"
   ]
  },
  {
   "cell_type": "code",
   "execution_count": null,
   "id": "a6f99ab7",
   "metadata": {},
   "outputs": [],
   "source": []
  },
  {
   "cell_type": "code",
   "execution_count": null,
   "id": "39dc8d91",
   "metadata": {},
   "outputs": [],
   "source": []
  }
 ],
 "metadata": {
  "kernelspec": {
   "display_name": "Python 3",
   "language": "python",
   "name": "python3"
  },
  "language_info": {
   "codemirror_mode": {
    "name": "ipython",
    "version": 3
   },
   "file_extension": ".py",
   "mimetype": "text/x-python",
   "name": "python",
   "nbconvert_exporter": "python",
   "pygments_lexer": "ipython3",
   "version": "3.8.8"
  }
 },
 "nbformat": 4,
 "nbformat_minor": 5
}
