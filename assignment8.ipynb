{
 "cells": [
  {
   "cell_type": "markdown",
   "id": "c0d7bdc7",
   "metadata": {},
   "source": [
    "# 1 - Write a Python Program to Add Two Matrices?"
   ]
  },
  {
   "cell_type": "code",
   "execution_count": 1,
   "id": "4a2e4879",
   "metadata": {},
   "outputs": [
    {
     "name": "stdout",
     "output_type": "stream",
     "text": [
      "enter the number of row: 3\n",
      "enter the number of column: 3\n",
      "enter matrix A: \n",
      "enter the O[{i}][{j}]1\n",
      "enter the O[{i}][{j}]2\n",
      "enter the O[{i}][{j}]3\n",
      "enter the O[{i}][{j}]4\n",
      "enter the O[{i}][{j}]5\n",
      "enter the O[{i}][{j}]6\n",
      "enter the O[{i}][{j}]7\n",
      "enter the O[{i}][{j}]8\n",
      "enter the O[{i}][{j}]9\n",
      "[[1, 2, 3], [4, 5, 6], [7, 8, 9]]\n",
      "enter matrix B: \n",
      "enter the O[{i}][{j}]1\n",
      "enter the O[{i}][{j}]2\n",
      "enter the O[{i}][{j}]3\n",
      "enter the O[{i}][{j}]4\n",
      "enter the O[{i}][{j}]5\n",
      "enter the O[{i}][{j}]6\n",
      "enter the O[{i}][{j}]7\n",
      "enter the O[{i}][{j}]8\n",
      "enter the O[{i}][{j}]9\n",
      "[[1, 2, 3], [4, 5, 6], [7, 8, 9]]\n",
      "[[2, 4, 6], [8, 10, 12], [14, 16, 18]]\n"
     ]
    }
   ],
   "source": [
    "def matrix(m,n):\n",
    "    o = []\n",
    "    for i in range(m):\n",
    "        row = []\n",
    "        for j in range(n):\n",
    "            inp = int(input(\"enter the O[{i}][{j}]\"))\n",
    "            row.append(inp)\n",
    "        o.append(row)\n",
    "    return o\n",
    "\n",
    "m = int(input(\"enter the number of row: \"))\n",
    "n = int(input(\"enter the number of column: \"))\n",
    "\n",
    "print(\"enter matrix A: \")\n",
    "A = matrix(m,n)\n",
    "print(A)\n",
    "\n",
    "print(\"enter matrix B: \")\n",
    "B = matrix(m,n)\n",
    "print(B)\n",
    "\n",
    "def sum(A,B):\n",
    "    output = []\n",
    "    for i in range(len(A)):\n",
    "        row = []\n",
    "        for j in range(len(B)):\n",
    "            row.append(A[i][j] + B[i][j])\n",
    "        output.append(row)\n",
    "    return output\n",
    "\n",
    "S = sum(A,B)\n",
    "print(\"Sum of A and B matrices are: \" , S)"
   ]
  },
  {
   "cell_type": "markdown",
   "id": "c98a4b64",
   "metadata": {},
   "source": [
    "# 2 - Write a Python Program to Multiply Two Matrices?"
   ]
  },
  {
   "cell_type": "code",
   "execution_count": 11,
   "id": "10c5d150",
   "metadata": {},
   "outputs": [
    {
     "name": "stdout",
     "output_type": "stream",
     "text": [
      "enter the number of row: 3\n",
      "enter the number of column: 3\n",
      "enter matrix A: \n",
      "enter the O[{i}][{j}]1\n",
      "enter the O[{i}][{j}]2\n",
      "enter the O[{i}][{j}]3\n",
      "enter the O[{i}][{j}]4\n",
      "enter the O[{i}][{j}]5\n",
      "enter the O[{i}][{j}]6\n",
      "enter the O[{i}][{j}]7\n",
      "enter the O[{i}][{j}]8\n",
      "enter the O[{i}][{j}]9\n",
      "[[1, 2, 3], [4, 5, 6], [7, 8, 9]]\n",
      "enter matrix B: \n",
      "enter the O[{i}][{j}]1\n",
      "enter the O[{i}][{j}]2\n",
      "enter the O[{i}][{j}]3\n",
      "enter the O[{i}][{j}]4\n",
      "enter the O[{i}][{j}]5\n",
      "enter the O[{i}][{j}]6\n",
      "enter the O[{i}][{j}]7\n",
      "enter the O[{i}][{j}]8\n",
      "enter the O[{i}][{j}]9\n",
      "[[1, 2, 3], [4, 5, 6], [7, 8, 9]]\n",
      "[30, 36, 42]\n",
      "[66, 81, 96]\n",
      "[102, 126, 150]\n"
     ]
    }
   ],
   "source": [
    "def matrix(m,n):\n",
    "    o = []\n",
    "    for i in range(m):\n",
    "        row = []\n",
    "        for j in range(n):\n",
    "            inp = int(input(\"enter the O[{i}][{j}]\"))\n",
    "            row.append(inp)\n",
    "        o.append(row)\n",
    "    return o\n",
    "\n",
    "m = int(input(\"enter the number of row: \"))\n",
    "n = int(input(\"enter the number of column: \"))\n",
    "\n",
    "print(\"enter matrix A: \")\n",
    "A = matrix(m,n)\n",
    "print(A)\n",
    "\n",
    "print(\"enter matrix B: \")\n",
    "B = matrix(m,n)\n",
    "print(B)\n",
    "\n",
    "\n",
    "#for 3*3 Matrix\n",
    "\n",
    "C = [[0,0,0],\n",
    "    [0,0,0],\n",
    "    [0,0,0]]\n",
    "\n",
    "for i in range(0,len(C)):\n",
    "    for j in range(0,len(C[0])):\n",
    "        for k in range(0,len(B)):\n",
    "            C[i][j] += A[i][k] * B[k][j]\n",
    "for row in C:\n",
    "    print(row)"
   ]
  },
  {
   "cell_type": "markdown",
   "id": "208ca0d3",
   "metadata": {},
   "source": [
    "# 3 - Write a Python Program to Transpose a Matrix?"
   ]
  },
  {
   "cell_type": "code",
   "execution_count": 17,
   "id": "2bc855fd",
   "metadata": {},
   "outputs": [
    {
     "name": "stdout",
     "output_type": "stream",
     "text": [
      "enter the number of row: 2\n",
      "enter the number of column: 2\n",
      "enter matrix A: \n",
      "enter the O[{i}][{j}]1\n",
      "enter the O[{i}][{j}]2\n",
      "enter the O[{i}][{j}]4\n",
      "enter the O[{i}][{j}]5\n",
      "[[1, 2], [4, 5]]\n",
      "[[1, 4], [2, 5]]\n"
     ]
    }
   ],
   "source": [
    "def matrix(m,n):\n",
    "    o = []\n",
    "    for i in range(m):\n",
    "        row = []\n",
    "        for j in range(n):\n",
    "            inp = int(input(\"enter the O[{i}][{j}]\"))\n",
    "            row.append(inp)\n",
    "        o.append(row)\n",
    "    return o\n",
    "\n",
    "m = int(input(\"enter the number of row: \"))\n",
    "n = int(input(\"enter the number of column: \"))\n",
    "\n",
    "print(\"enter matrix A: \")\n",
    "A = matrix(m,n)\n",
    "print(A)\n",
    "\n",
    "#transpose of 'A' Matrix\n",
    "\n",
    "op = []\n",
    "for i in range(n):\n",
    "    result = []\n",
    "    for j in range(m):\n",
    "        result.append(A[j][i])\n",
    "    op.append(result)\n",
    "    \n",
    "print(op)"
   ]
  },
  {
   "cell_type": "markdown",
   "id": "01d8ff3e",
   "metadata": {},
   "source": [
    "# 4 - Write a Python Program to Sort Words in Alphabetic Order?"
   ]
  },
  {
   "cell_type": "code",
   "execution_count": 19,
   "id": "856a4c39",
   "metadata": {},
   "outputs": [
    {
     "name": "stdout",
     "output_type": "stream",
     "text": [
      "The sorted words are:\n",
      "from\n",
      "hello\n",
      "ineuron\n",
      "is\n",
      "kunal\n",
      "this\n"
     ]
    }
   ],
   "source": [
    "my_str = \"Hello this is kunal from ineuron\"\n",
    "words = [word.lower() for word in my_str.split()]\n",
    "words.sort()\n",
    "\n",
    "print(\"The sorted words are:\")\n",
    "for word in words:\n",
    "    print(word)"
   ]
  },
  {
   "cell_type": "markdown",
   "id": "c22fd85b",
   "metadata": {},
   "source": [
    "# 5 - Write a Python Program to Remove Punctuation From a String?"
   ]
  },
  {
   "cell_type": "code",
   "execution_count": 21,
   "id": "9fcebe54",
   "metadata": {},
   "outputs": [
    {
     "name": "stdout",
     "output_type": "stream",
     "text": [
      " Hello i am kunal from ineuron  \n"
     ]
    }
   ],
   "source": [
    "\n",
    "punctuations = '''!()-[]{};:'\"\\,<>./?@#$%^&*_~'''\n",
    "\n",
    "my_str = \" Hello!!!, i am 'kunal', from^% ineuron . \"\n",
    "\n",
    "no_punct = \"\"\n",
    "for char in my_str:\n",
    "    if char not in punctuations:\n",
    "        no_punct = no_punct + char\n",
    "\n",
    "print(no_punct)"
   ]
  },
  {
   "cell_type": "code",
   "execution_count": null,
   "id": "c1f09203",
   "metadata": {},
   "outputs": [],
   "source": []
  }
 ],
 "metadata": {
  "kernelspec": {
   "display_name": "Python 3",
   "language": "python",
   "name": "python3"
  },
  "language_info": {
   "codemirror_mode": {
    "name": "ipython",
    "version": 3
   },
   "file_extension": ".py",
   "mimetype": "text/x-python",
   "name": "python",
   "nbconvert_exporter": "python",
   "pygments_lexer": "ipython3",
   "version": "3.8.8"
  }
 },
 "nbformat": 4,
 "nbformat_minor": 5
}
