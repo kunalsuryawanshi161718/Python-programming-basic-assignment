{
 "cells": [
  {
   "cell_type": "markdown",
   "id": "56ea8410",
   "metadata": {},
   "source": [
    "## Question 1:\n",
    "\n",
    "Write a program that calculates and prints the value according to the given formula:\n",
    "\n",
    "Q = Square root of [(2 * C * D)/H]\n",
    "\n",
    "Following are the fixed values of C and H:\n",
    "\n",
    "C is 50. H is 30.\n",
    "\n",
    "D is the variable whose values should be input to your program in a comma-separated\n",
    "\n",
    "sequence.\n",
    "\n",
    "Example\n",
    "\n",
    "Let us assume the following comma separated input sequence is given to the program:\n",
    "\n",
    "100,150,180\n",
    "\n",
    "The output of the program should be:\n",
    "\n",
    "18,22,24\n"
   ]
  },
  {
   "cell_type": "code",
   "execution_count": 47,
   "id": "26c9004f",
   "metadata": {},
   "outputs": [
    {
     "name": "stdout",
     "output_type": "stream",
     "text": [
      "enter the value of D: 100\n",
      "[18]\n"
     ]
    }
   ],
   "source": [
    "import math\n",
    "\n",
    "n1 = input(\"enter the value of D: \")\n",
    "n1 = n1.split(',')\n",
    "\n",
    "result = []\n",
    "for D in n1:\n",
    "    Q = round(math.sqrt(2 * 50 * int(D) / 30))\n",
    "    result.append(Q)\n",
    "\n",
    "print(result)\n"
   ]
  },
  {
   "cell_type": "markdown",
   "id": "0edb11c3",
   "metadata": {},
   "source": [
    "## Question 2:\n",
    "\n",
    "Write a program which takes 2 digits, X,Y as input and generates a 2-dimensional array. The\n",
    "element value in the i-th row and j-th column of the array should be i*j.\n",
    "Note: i=0,1.., X-1; j=0,1,¡Y-1.\n",
    "\n",
    "Example\n",
    "\n",
    "Suppose the following inputs are given to the program:\n",
    "\n",
    "3,5\n",
    "\n",
    "Then, the output of the program should be:\n",
    "\n",
    "[[0, 0, 0, 0, 0], [0, 1, 2, 3, 4], [0, 2, 4, 6, 8]]"
   ]
  },
  {
   "cell_type": "code",
   "execution_count": 45,
   "id": "8191debf",
   "metadata": {},
   "outputs": [
    {
     "name": "stdout",
     "output_type": "stream",
     "text": [
      "enter the value of D: 35\n",
      "[[0, 0, 0, 0, 0], [0, 1, 2, 3, 4], [0, 2, 4, 6, 8]]\n"
     ]
    }
   ],
   "source": [
    "n2 = input(\"enter the value of D: \")\n",
    "l=[]\n",
    "for i in n2:\n",
    "    l.append(i)\n",
    "X = int(l[0])\n",
    "Y = int(l[1])\n",
    "\n",
    "multi_list = [[0 for col in range(Y)] for row in range(X)]\n",
    "\n",
    "for row in range(X):\n",
    "    for col in range(Y):\n",
    "        multi_list[row][col]= row*col\n",
    "\n",
    "print(multi_list)"
   ]
  },
  {
   "cell_type": "markdown",
   "id": "902b7004",
   "metadata": {},
   "source": [
    "## Question 3:\n",
    "\n",
    "Write a program that accepts a comma separated sequence of words as input and prints the\n",
    "words in a comma-separated sequence after sorting them alphabetically.\n",
    "\n",
    "Suppose the following input is supplied to the program:\n",
    "    \n",
    "without,hello,bag,world\n",
    "\n",
    "Then, the output should be:\n",
    "    \n",
    "bag,hello,without,world"
   ]
  },
  {
   "cell_type": "code",
   "execution_count": 88,
   "id": "cf8b905b",
   "metadata": {},
   "outputs": [
    {
     "name": "stdout",
     "output_type": "stream",
     "text": [
      "insert the sentence: hello world and practice makes perfect and hello world again\n",
      "again and hello makes perfect practice world\n"
     ]
    }
   ],
   "source": [
    "sentence = input(\"insert the sentence: \")\n",
    "splitsentence = sentence.split(' ')\n",
    "\n",
    "word_list = []\n",
    "for i in splitsentence:\n",
    "    if i not in word_list:\n",
    "        word_list.append(i)\n",
    "    else:\n",
    "        continue\n",
    "word_list.sort()\n",
    "print((' ').join(word_list))"
   ]
  },
  {
   "cell_type": "markdown",
   "id": "6abf5a63",
   "metadata": {},
   "source": [
    "## Question 4:\n",
    "\n",
    "Write a program that accepts a sequence of whitespace separated words as input and prints\n",
    "the words after removing all duplicate words and sorting them alphanumerically.\n",
    "\n",
    "Suppose the following input is supplied to the program:\n",
    "    \n",
    "hello world and practice makes perfect and hello world again\n",
    "\n",
    "Then, the output should be:\n",
    "    \n",
    "again and hello makes perfect practice world"
   ]
  },
  {
   "cell_type": "code",
   "execution_count": 87,
   "id": "30bc458b",
   "metadata": {},
   "outputs": [
    {
     "name": "stdout",
     "output_type": "stream",
     "text": [
      "Insert the sentence: hello world! 123\n",
      "LETTERS:  10\n"
     ]
    }
   ],
   "source": [
    "sentence = input(\"Insert the sentence: \")\n",
    "sentence = list(sentence)\n",
    "\n",
    "a = 0\n",
    "for i in sentence:\n",
    "    if i.isalpha():\n",
    "        a = a + 1\n",
    "    else:\n",
    "        pass\n",
    "\n",
    "print(\"LETTERS: \",a)"
   ]
  },
  {
   "cell_type": "markdown",
   "id": "8145cd4f",
   "metadata": {},
   "source": [
    "## Question 5:\n",
    "\n",
    "Write a program that accepts a sentence and calculate the number of letters and digits.\n",
    "\n",
    "Suppose the following input is supplied to the program:\n",
    "    \n",
    "hello world! 123\n",
    "\n",
    "Then, the output should be:\n",
    "    \n",
    "LETTERS 10"
   ]
  },
  {
   "cell_type": "code",
   "execution_count": 86,
   "id": "fec1d38a",
   "metadata": {},
   "outputs": [
    {
     "name": "stdout",
     "output_type": "stream",
     "text": [
      "input list of password ABd1234@1,a F1#,2w3E*,2We3345\n",
      "ABd1234@1\n"
     ]
    }
   ],
   "source": [
    "#importing regular expression\n",
    "\n",
    "import re\n",
    "\n",
    "p = input(\"input list of password \")\n",
    "p = p.split(\",\")\n",
    "\n",
    "listpass = []\n",
    "for i in p:\n",
    "    \n",
    "    if len(i) < 6 or len(i) > 12:\n",
    "        continue\n",
    "\n",
    "    elif not re.search(\"([a-z])+\", i):\n",
    "        continue\n",
    "\n",
    "    elif not re.search(\"([A-Z])+\", i):\n",
    "        continue\n",
    "\n",
    "    elif not re.search(\"([0-9])+\", i):\n",
    "        continue\n",
    "\n",
    "    elif not re.search(\"([!@$%^&])+\", i):\n",
    "        continue\n",
    "\n",
    "    else:\n",
    "        listpass.append(i)\n",
    "\n",
    "print((\" \").join(listpass))"
   ]
  },
  {
   "cell_type": "code",
   "execution_count": null,
   "id": "e57f0455",
   "metadata": {},
   "outputs": [],
   "source": []
  }
 ],
 "metadata": {
  "kernelspec": {
   "display_name": "Python 3",
   "language": "python",
   "name": "python3"
  },
  "language_info": {
   "codemirror_mode": {
    "name": "ipython",
    "version": 3
   },
   "file_extension": ".py",
   "mimetype": "text/x-python",
   "name": "python",
   "nbconvert_exporter": "python",
   "pygments_lexer": "ipython3",
   "version": "3.8.8"
  }
 },
 "nbformat": 4,
 "nbformat_minor": 5
}
